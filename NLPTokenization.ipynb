{
  "nbformat": 4,
  "nbformat_minor": 0,
  "metadata": {
    "colab": {
      "provenance": [],
      "authorship_tag": "ABX9TyP29G7R7MO1b4Ab0FG9rWIm",
      "include_colab_link": true
    },
    "kernelspec": {
      "name": "python3",
      "display_name": "Python 3"
    },
    "language_info": {
      "name": "python"
    }
  },
  "cells": [
    {
      "cell_type": "markdown",
      "metadata": {
        "id": "view-in-github",
        "colab_type": "text"
      },
      "source": [
        "<a href=\"https://colab.research.google.com/github/kigit2017/NLP/blob/main/NLPTokenization.ipynb\" target=\"_parent\"><img src=\"https://colab.research.google.com/assets/colab-badge.svg\" alt=\"Open In Colab\"/></a>"
      ]
    },
    {
      "cell_type": "code",
      "execution_count": 52,
      "metadata": {
        "colab": {
          "base_uri": "https://localhost:8080/"
        },
        "id": "xlOboGoKmSB9",
        "outputId": "adde1a6f-3c80-4a74-e8d9-a2aa5af1ca45"
      },
      "outputs": [
        {
          "output_type": "stream",
          "name": "stderr",
          "text": [
            "[nltk_data] Downloading package punkt to /root/nltk_data...\n",
            "[nltk_data]   Package punkt is already up-to-date!\n"
          ]
        },
        {
          "output_type": "execute_result",
          "data": {
            "text/plain": [
              "True"
            ]
          },
          "metadata": {},
          "execution_count": 52
        }
      ],
      "source": [
        "from nltk import word_tokenize,sent_tokenize\n",
        "import nltk\n",
        "nltk.download('punkt')"
      ]
    },
    {
      "cell_type": "code",
      "source": [
        "p1 = 'How tokenizing text,words sentence, works - It is a text preprocessing work in sentiment analysis that involves breaking down text into individual works or tokens. This is an essential step in analyzing data as it helps to seperate indivisual words form raw test'"
      ],
      "metadata": {
        "id": "_zl3OJxemwx9"
      },
      "execution_count": 53,
      "outputs": []
    },
    {
      "cell_type": "code",
      "source": [
        "print(sent_tokenize(p1))"
      ],
      "metadata": {
        "colab": {
          "base_uri": "https://localhost:8080/"
        },
        "id": "fylO45WSoIJn",
        "outputId": "21b7abf5-1439-46d6-e8e2-8f5f03e0764e"
      },
      "execution_count": 54,
      "outputs": [
        {
          "output_type": "stream",
          "name": "stdout",
          "text": [
            "['How tokenizing text,words sentence, works - It is a text preprocessing work in sentiment analysis that involves breaking down text into individual works or tokens.', 'This is an essential step in analyzing data as it helps to seperate indivisual words form raw test']\n"
          ]
        }
      ]
    },
    {
      "cell_type": "code",
      "source": [
        "tokens = word_tokenize(p1)\n",
        "tokens"
      ],
      "metadata": {
        "id": "blgVMm0rpzV4",
        "colab": {
          "base_uri": "https://localhost:8080/"
        },
        "outputId": "9a9197bf-cca2-419f-e2f6-33099807f26a"
      },
      "execution_count": 55,
      "outputs": [
        {
          "output_type": "execute_result",
          "data": {
            "text/plain": [
              "['How',\n",
              " 'tokenizing',\n",
              " 'text',\n",
              " ',',\n",
              " 'words',\n",
              " 'sentence',\n",
              " ',',\n",
              " 'works',\n",
              " '-',\n",
              " 'It',\n",
              " 'is',\n",
              " 'a',\n",
              " 'text',\n",
              " 'preprocessing',\n",
              " 'work',\n",
              " 'in',\n",
              " 'sentiment',\n",
              " 'analysis',\n",
              " 'that',\n",
              " 'involves',\n",
              " 'breaking',\n",
              " 'down',\n",
              " 'text',\n",
              " 'into',\n",
              " 'individual',\n",
              " 'works',\n",
              " 'or',\n",
              " 'tokens',\n",
              " '.',\n",
              " 'This',\n",
              " 'is',\n",
              " 'an',\n",
              " 'essential',\n",
              " 'step',\n",
              " 'in',\n",
              " 'analyzing',\n",
              " 'data',\n",
              " 'as',\n",
              " 'it',\n",
              " 'helps',\n",
              " 'to',\n",
              " 'seperate',\n",
              " 'indivisual',\n",
              " 'words',\n",
              " 'form',\n",
              " 'raw',\n",
              " 'test']"
            ]
          },
          "metadata": {},
          "execution_count": 55
        }
      ]
    },
    {
      "cell_type": "markdown",
      "source": [
        "stopwords - remove propositions ,conjunctions,"
      ],
      "metadata": {
        "id": "DZ56UxzormyP"
      }
    },
    {
      "cell_type": "code",
      "source": [
        "from nltk.corpus import stopwords\n",
        "nltk.download('stopwords')"
      ],
      "metadata": {
        "colab": {
          "base_uri": "https://localhost:8080/"
        },
        "id": "h7wm9MDsp3wq",
        "outputId": "d0256ddb-26ea-4267-b46e-c0a1b389ea2e"
      },
      "execution_count": 56,
      "outputs": [
        {
          "output_type": "stream",
          "name": "stderr",
          "text": [
            "[nltk_data] Downloading package stopwords to /root/nltk_data...\n",
            "[nltk_data]   Package stopwords is already up-to-date!\n"
          ]
        },
        {
          "output_type": "execute_result",
          "data": {
            "text/plain": [
              "True"
            ]
          },
          "metadata": {},
          "execution_count": 56
        }
      ]
    },
    {
      "cell_type": "code",
      "source": [
        "filter_text= [word for word in tokens if word.lower() not in stopwords.words('english')]"
      ],
      "metadata": {
        "id": "KJKFvIxbqdsI"
      },
      "execution_count": 57,
      "outputs": []
    },
    {
      "cell_type": "code",
      "source": [
        "print(filter_text)"
      ],
      "metadata": {
        "colab": {
          "base_uri": "https://localhost:8080/"
        },
        "id": "0bdXH9T8qswU",
        "outputId": "913ceb05-c3c8-42af-f3e3-7dd67d778ef3"
      },
      "execution_count": 58,
      "outputs": [
        {
          "output_type": "stream",
          "name": "stdout",
          "text": [
            "['tokenizing', 'text', ',', 'words', 'sentence', ',', 'works', '-', 'text', 'preprocessing', 'work', 'sentiment', 'analysis', 'involves', 'breaking', 'text', 'individual', 'works', 'tokens', '.', 'essential', 'step', 'analyzing', 'data', 'helps', 'seperate', 'indivisual', 'words', 'form', 'raw', 'test']\n"
          ]
        }
      ]
    },
    {
      "cell_type": "markdown",
      "source": [
        "### Techniques included in NLP;\n",
        "- 1. Toeknization : the process of breaking text into individual words or pharases.\n",
        "- 2. Part-of-speech tagging :  the process of labeling each words in a sentence with its grammatical part of speech\n",
        "- 4. Named entity recognition : the process of determining the sentiment of apiece of text, such as whether it is positive , negative or neutral\n",
        "- 5. Machine translation :  the process of automatically translating text from one language to another\n",
        "- 6. text classification : the process of categorizing text into predefined categories or topics.\n",
        "\n",
        "```\n",
        "# This is formatted as code\n",
        "```\n",
        "\n"
      ],
      "metadata": {
        "id": "ZSP9bNzssXGE"
      }
    },
    {
      "cell_type": "code",
      "source": [
        "import nltk"
      ],
      "metadata": {
        "id": "IaleHBCVsi-8"
      },
      "execution_count": 59,
      "outputs": []
    },
    {
      "cell_type": "markdown",
      "source": [
        "Tokenizing words and sentences"
      ],
      "metadata": {
        "id": "AvOtX9ddtqV8"
      }
    },
    {
      "cell_type": "code",
      "source": [
        "paragraph = \"\"\"Tell General Howard I know his heart. What he told me before, I have it in my heart. I am tired of fighting.\n",
        "Our Chiefs are killed; Looking Glass is dead, Ta Hool Hool Shute is dead. The old men are all dead. It is the young men who\n",
        "say yes or no. He who led on the young men is dead. It is cold, and we have no blankets; the little children are freezing\n",
        "to death. My people, some of them, have run away to the hills, and have no blankets, no food. No one knows where they are\n",
        "– perhaps freezing to death. I want to have time to look for my children, and see how many of them I can find. Maybe I\n",
        "shall find them among the dead. Hear me, my Chiefs! I am tired; my heart is sick and sad. From where the sun now stands\n",
        "I will fight no more forever.\"\"\""
      ],
      "metadata": {
        "id": "eWirFKv4tpC_"
      },
      "execution_count": 60,
      "outputs": []
    },
    {
      "cell_type": "code",
      "source": [
        "# seperate each sentecne of our paragraph\n",
        "sent = nltk.sent_tokenize(paragraph)\n",
        "sent"
      ],
      "metadata": {
        "colab": {
          "base_uri": "https://localhost:8080/"
        },
        "id": "TMdn9wkGt6S6",
        "outputId": "a47c7a01-4971-4737-d23c-67b978740459"
      },
      "execution_count": 61,
      "outputs": [
        {
          "output_type": "execute_result",
          "data": {
            "text/plain": [
              "['Tell General Howard I know his heart.',\n",
              " 'What he told me before, I have it in my heart.',\n",
              " 'I am tired of fighting.',\n",
              " 'Our Chiefs are killed; Looking Glass is dead, Ta Hool Hool Shute is dead.',\n",
              " 'The old men are all dead.',\n",
              " 'It is the young men who\\nsay yes or no.',\n",
              " 'He who led on the young men is dead.',\n",
              " 'It is cold, and we have no blankets; the little children are freezing\\nto death.',\n",
              " 'My people, some of them, have run away to the hills, and have no blankets, no food.',\n",
              " 'No one knows where they are\\n– perhaps freezing to death.',\n",
              " 'I want to have time to look for my children, and see how many of them I can find.',\n",
              " 'Maybe I\\nshall find them among the dead.',\n",
              " 'Hear me, my Chiefs!',\n",
              " 'I am tired; my heart is sick and sad.',\n",
              " 'From where the sun now stands\\nI will fight no more forever.']"
            ]
          },
          "metadata": {},
          "execution_count": 61
        }
      ]
    },
    {
      "cell_type": "code",
      "source": [
        "# we will seperate each and every word of each sentence\n",
        "words = nltk.word_tokenize(paragraph)\n",
        "words"
      ],
      "metadata": {
        "colab": {
          "base_uri": "https://localhost:8080/"
        },
        "id": "h1yUhgPfuF7y",
        "outputId": "9e883565-c5a2-4f9d-bfbf-b35de2e40d94"
      },
      "execution_count": 62,
      "outputs": [
        {
          "output_type": "execute_result",
          "data": {
            "text/plain": [
              "['Tell',\n",
              " 'General',\n",
              " 'Howard',\n",
              " 'I',\n",
              " 'know',\n",
              " 'his',\n",
              " 'heart',\n",
              " '.',\n",
              " 'What',\n",
              " 'he',\n",
              " 'told',\n",
              " 'me',\n",
              " 'before',\n",
              " ',',\n",
              " 'I',\n",
              " 'have',\n",
              " 'it',\n",
              " 'in',\n",
              " 'my',\n",
              " 'heart',\n",
              " '.',\n",
              " 'I',\n",
              " 'am',\n",
              " 'tired',\n",
              " 'of',\n",
              " 'fighting',\n",
              " '.',\n",
              " 'Our',\n",
              " 'Chiefs',\n",
              " 'are',\n",
              " 'killed',\n",
              " ';',\n",
              " 'Looking',\n",
              " 'Glass',\n",
              " 'is',\n",
              " 'dead',\n",
              " ',',\n",
              " 'Ta',\n",
              " 'Hool',\n",
              " 'Hool',\n",
              " 'Shute',\n",
              " 'is',\n",
              " 'dead',\n",
              " '.',\n",
              " 'The',\n",
              " 'old',\n",
              " 'men',\n",
              " 'are',\n",
              " 'all',\n",
              " 'dead',\n",
              " '.',\n",
              " 'It',\n",
              " 'is',\n",
              " 'the',\n",
              " 'young',\n",
              " 'men',\n",
              " 'who',\n",
              " 'say',\n",
              " 'yes',\n",
              " 'or',\n",
              " 'no',\n",
              " '.',\n",
              " 'He',\n",
              " 'who',\n",
              " 'led',\n",
              " 'on',\n",
              " 'the',\n",
              " 'young',\n",
              " 'men',\n",
              " 'is',\n",
              " 'dead',\n",
              " '.',\n",
              " 'It',\n",
              " 'is',\n",
              " 'cold',\n",
              " ',',\n",
              " 'and',\n",
              " 'we',\n",
              " 'have',\n",
              " 'no',\n",
              " 'blankets',\n",
              " ';',\n",
              " 'the',\n",
              " 'little',\n",
              " 'children',\n",
              " 'are',\n",
              " 'freezing',\n",
              " 'to',\n",
              " 'death',\n",
              " '.',\n",
              " 'My',\n",
              " 'people',\n",
              " ',',\n",
              " 'some',\n",
              " 'of',\n",
              " 'them',\n",
              " ',',\n",
              " 'have',\n",
              " 'run',\n",
              " 'away',\n",
              " 'to',\n",
              " 'the',\n",
              " 'hills',\n",
              " ',',\n",
              " 'and',\n",
              " 'have',\n",
              " 'no',\n",
              " 'blankets',\n",
              " ',',\n",
              " 'no',\n",
              " 'food',\n",
              " '.',\n",
              " 'No',\n",
              " 'one',\n",
              " 'knows',\n",
              " 'where',\n",
              " 'they',\n",
              " 'are',\n",
              " '–',\n",
              " 'perhaps',\n",
              " 'freezing',\n",
              " 'to',\n",
              " 'death',\n",
              " '.',\n",
              " 'I',\n",
              " 'want',\n",
              " 'to',\n",
              " 'have',\n",
              " 'time',\n",
              " 'to',\n",
              " 'look',\n",
              " 'for',\n",
              " 'my',\n",
              " 'children',\n",
              " ',',\n",
              " 'and',\n",
              " 'see',\n",
              " 'how',\n",
              " 'many',\n",
              " 'of',\n",
              " 'them',\n",
              " 'I',\n",
              " 'can',\n",
              " 'find',\n",
              " '.',\n",
              " 'Maybe',\n",
              " 'I',\n",
              " 'shall',\n",
              " 'find',\n",
              " 'them',\n",
              " 'among',\n",
              " 'the',\n",
              " 'dead',\n",
              " '.',\n",
              " 'Hear',\n",
              " 'me',\n",
              " ',',\n",
              " 'my',\n",
              " 'Chiefs',\n",
              " '!',\n",
              " 'I',\n",
              " 'am',\n",
              " 'tired',\n",
              " ';',\n",
              " 'my',\n",
              " 'heart',\n",
              " 'is',\n",
              " 'sick',\n",
              " 'and',\n",
              " 'sad',\n",
              " '.',\n",
              " 'From',\n",
              " 'where',\n",
              " 'the',\n",
              " 'sun',\n",
              " 'now',\n",
              " 'stands',\n",
              " 'I',\n",
              " 'will',\n",
              " 'fight',\n",
              " 'no',\n",
              " 'more',\n",
              " 'forever',\n",
              " '.']"
            ]
          },
          "metadata": {},
          "execution_count": 62
        }
      ]
    },
    {
      "cell_type": "markdown",
      "source": [
        "#### Stemming:\n",
        "Is the prcoess of reducing or dividing words to their base root form.\n",
        "wrods representation may not habe any meaning.\n"
      ],
      "metadata": {
        "id": "1XiXemmHua7k"
      }
    },
    {
      "cell_type": "code",
      "source": [
        "# import stemming from nltk\n",
        "from nltk.stem import PorterStemmer"
      ],
      "metadata": {
        "id": "TwvAQXF3uVby"
      },
      "execution_count": 63,
      "outputs": []
    },
    {
      "cell_type": "code",
      "source": [
        "# init the stemming\n",
        "stemmer = PorterStemmer()"
      ],
      "metadata": {
        "id": "d9SjEK4Ou_7L"
      },
      "execution_count": 64,
      "outputs": []
    },
    {
      "cell_type": "code",
      "source": [
        "# stemming\n",
        "for i in range(len(sent)):\n",
        "  words = nltk.word_tokenize(sent[i])\n",
        "  newwords = [stemmer.stem(word) for word in words]\n",
        "  sent[i] = ' '.join(newwords)\n"
      ],
      "metadata": {
        "id": "99ao8RIWvFbp"
      },
      "execution_count": 65,
      "outputs": []
    },
    {
      "cell_type": "code",
      "source": [
        "sent"
      ],
      "metadata": {
        "colab": {
          "base_uri": "https://localhost:8080/"
        },
        "id": "-RB07GKyvvEc",
        "outputId": "a10553fa-87e5-4d02-b54c-7e93b1e06f2c"
      },
      "execution_count": 66,
      "outputs": [
        {
          "output_type": "execute_result",
          "data": {
            "text/plain": [
              "['tell gener howard i know hi heart .',\n",
              " 'what he told me befor , i have it in my heart .',\n",
              " 'i am tire of fight .',\n",
              " 'our chief are kill ; look glass is dead , ta hool hool shute is dead .',\n",
              " 'the old men are all dead .',\n",
              " 'it is the young men who say ye or no .',\n",
              " 'he who led on the young men is dead .',\n",
              " 'it is cold , and we have no blanket ; the littl children are freez to death .',\n",
              " 'my peopl , some of them , have run away to the hill , and have no blanket , no food .',\n",
              " 'no one know where they are – perhap freez to death .',\n",
              " 'i want to have time to look for my children , and see how mani of them i can find .',\n",
              " 'mayb i shall find them among the dead .',\n",
              " 'hear me , my chief !',\n",
              " 'i am tire ; my heart is sick and sad .',\n",
              " 'from where the sun now stand i will fight no more forev .']"
            ]
          },
          "metadata": {},
          "execution_count": 66
        }
      ]
    },
    {
      "cell_type": "markdown",
      "source": [
        "### Lemmatization:\n",
        "It works similar to stemming but intermediate representation/ root form has a meaning.\n"
      ],
      "metadata": {
        "id": "hgIkLDk_whUT"
      }
    },
    {
      "cell_type": "code",
      "source": [
        "# import lemmatization from nltk\n",
        "from nltk.stem import WordNetLemmatizer\n",
        "\n",
        "sent = nltk.sent_tokenize(paragraph)"
      ],
      "metadata": {
        "id": "vkr9mVbPwLCR"
      },
      "execution_count": 67,
      "outputs": []
    },
    {
      "cell_type": "code",
      "source": [
        "sent"
      ],
      "metadata": {
        "colab": {
          "base_uri": "https://localhost:8080/"
        },
        "id": "Us60bRGiw-4f",
        "outputId": "0962d9e0-5242-4a60-e47a-387f286032ed"
      },
      "execution_count": 68,
      "outputs": [
        {
          "output_type": "execute_result",
          "data": {
            "text/plain": [
              "['Tell General Howard I know his heart.',\n",
              " 'What he told me before, I have it in my heart.',\n",
              " 'I am tired of fighting.',\n",
              " 'Our Chiefs are killed; Looking Glass is dead, Ta Hool Hool Shute is dead.',\n",
              " 'The old men are all dead.',\n",
              " 'It is the young men who\\nsay yes or no.',\n",
              " 'He who led on the young men is dead.',\n",
              " 'It is cold, and we have no blankets; the little children are freezing\\nto death.',\n",
              " 'My people, some of them, have run away to the hills, and have no blankets, no food.',\n",
              " 'No one knows where they are\\n– perhaps freezing to death.',\n",
              " 'I want to have time to look for my children, and see how many of them I can find.',\n",
              " 'Maybe I\\nshall find them among the dead.',\n",
              " 'Hear me, my Chiefs!',\n",
              " 'I am tired; my heart is sick and sad.',\n",
              " 'From where the sun now stands\\nI will fight no more forever.']"
            ]
          },
          "metadata": {},
          "execution_count": 68
        }
      ]
    },
    {
      "cell_type": "code",
      "source": [
        "# init the lemmatization model\n",
        "lemmatizer = WordNetLemmatizer()"
      ],
      "metadata": {
        "id": "SNWVB-psxCFb"
      },
      "execution_count": 69,
      "outputs": []
    },
    {
      "cell_type": "code",
      "source": [
        "# Lemmatization\n",
        "nltk.download('wordnet')\n",
        "for i in range(len(sent)):\n",
        "  words = nltk.word_tokenize(sent[i])\n",
        "  newwords = [lemmatizer.lemmatize(word) for word in words]\n",
        "  sent[i] = ' '.join(newwords)\n",
        "\n",
        "sent"
      ],
      "metadata": {
        "colab": {
          "base_uri": "https://localhost:8080/"
        },
        "id": "Q7kBaDu5xJ-O",
        "outputId": "8d8d9643-7abd-4cf7-a8e9-98380b27f02f"
      },
      "execution_count": 70,
      "outputs": [
        {
          "output_type": "stream",
          "name": "stderr",
          "text": [
            "[nltk_data] Downloading package wordnet to /root/nltk_data...\n",
            "[nltk_data]   Package wordnet is already up-to-date!\n"
          ]
        },
        {
          "output_type": "execute_result",
          "data": {
            "text/plain": [
              "['Tell General Howard I know his heart .',\n",
              " 'What he told me before , I have it in my heart .',\n",
              " 'I am tired of fighting .',\n",
              " 'Our Chiefs are killed ; Looking Glass is dead , Ta Hool Hool Shute is dead .',\n",
              " 'The old men are all dead .',\n",
              " 'It is the young men who say yes or no .',\n",
              " 'He who led on the young men is dead .',\n",
              " 'It is cold , and we have no blanket ; the little child are freezing to death .',\n",
              " 'My people , some of them , have run away to the hill , and have no blanket , no food .',\n",
              " 'No one know where they are – perhaps freezing to death .',\n",
              " 'I want to have time to look for my child , and see how many of them I can find .',\n",
              " 'Maybe I shall find them among the dead .',\n",
              " 'Hear me , my Chiefs !',\n",
              " 'I am tired ; my heart is sick and sad .',\n",
              " 'From where the sun now stand I will fight no more forever .']"
            ]
          },
          "metadata": {},
          "execution_count": 70
        }
      ]
    },
    {
      "cell_type": "markdown",
      "source": [
        "# Remving stop words"
      ],
      "metadata": {
        "id": "LQhsVbPWx15y"
      }
    },
    {
      "cell_type": "code",
      "source": [
        "from nltk.corpus import stopwords"
      ],
      "metadata": {
        "id": "M_vc1jFqxhtk"
      },
      "execution_count": 71,
      "outputs": []
    },
    {
      "cell_type": "code",
      "source": [
        "sent = nltk.sent_tokenize(paragraph)"
      ],
      "metadata": {
        "id": "oPjXp1DNx8vd"
      },
      "execution_count": 72,
      "outputs": []
    },
    {
      "cell_type": "code",
      "source": [
        "# we will remove stop wrods\n",
        "for i in range(len(sent)):\n",
        "  words = nltk.word_tokenize(sent[i])\n",
        "  newwords = [word for word in words if word not in stopwords.words('english')]\n",
        "  sent[i] = ' '.join(newwords)\n",
        "sent"
      ],
      "metadata": {
        "colab": {
          "base_uri": "https://localhost:8080/"
        },
        "id": "v11qcAhiyEBT",
        "outputId": "5abd9727-b30b-468b-f345-521801a3e2e1"
      },
      "execution_count": 73,
      "outputs": [
        {
          "output_type": "execute_result",
          "data": {
            "text/plain": [
              "['Tell General Howard I know heart .',\n",
              " 'What told , I heart .',\n",
              " 'I tired fighting .',\n",
              " 'Our Chiefs killed ; Looking Glass dead , Ta Hool Hool Shute dead .',\n",
              " 'The old men dead .',\n",
              " 'It young men say yes .',\n",
              " 'He led young men dead .',\n",
              " 'It cold , blankets ; little children freezing death .',\n",
              " 'My people , , run away hills , blankets , food .',\n",
              " 'No one knows – perhaps freezing death .',\n",
              " 'I want time look children , see many I find .',\n",
              " 'Maybe I shall find among dead .',\n",
              " 'Hear , Chiefs !',\n",
              " 'I tired ; heart sick sad .',\n",
              " 'From sun stands I fight forever .']"
            ]
          },
          "metadata": {},
          "execution_count": 73
        }
      ]
    },
    {
      "cell_type": "markdown",
      "source": [
        "## Part of Sppech Tagging"
      ],
      "metadata": {
        "id": "fLoF-Airyg70"
      }
    },
    {
      "cell_type": "code",
      "source": [
        "nltk.download('averaged_perceptron_tagger')\n",
        "paragraph_2 = 'hi! how are you. Where from you'\n",
        "\n",
        "words = nltk.word_tokenize(paragraph_2)\n",
        "tagged_words = nltk.pos_tag(words)"
      ],
      "metadata": {
        "colab": {
          "base_uri": "https://localhost:8080/"
        },
        "id": "8CPW6eUWyb3c",
        "outputId": "c7789a47-c74a-4f65-dba4-1733055f1450"
      },
      "execution_count": 74,
      "outputs": [
        {
          "output_type": "stream",
          "name": "stderr",
          "text": [
            "[nltk_data] Downloading package averaged_perceptron_tagger to\n",
            "[nltk_data]     /root/nltk_data...\n",
            "[nltk_data]   Package averaged_perceptron_tagger is already up-to-\n",
            "[nltk_data]       date!\n"
          ]
        }
      ]
    },
    {
      "cell_type": "code",
      "source": [
        "word_tags = []\n",
        "for tw in tagged_words :\n",
        "  word_tags.append(tw[0]+ \"_\"+tw[1])\n",
        "\n",
        "tagged_para = ' '.join(word_tags)\n",
        "tagged_para"
      ],
      "metadata": {
        "colab": {
          "base_uri": "https://localhost:8080/",
          "height": 36
        },
        "id": "BIVxrhoqy2Qu",
        "outputId": "6df0726d-e70d-4cc4-b1f9-0b91a96716b4"
      },
      "execution_count": 75,
      "outputs": [
        {
          "output_type": "execute_result",
          "data": {
            "text/plain": [
              "'hi_NN !_. how_WRB are_VBP you_PRP ._. Where_WRB from_IN you_PRP'"
            ],
            "application/vnd.google.colaboratory.intrinsic+json": {
              "type": "string"
            }
          },
          "metadata": {},
          "execution_count": 75
        }
      ]
    },
    {
      "cell_type": "markdown",
      "source": [
        "### Named Entity Recognition\n"
      ],
      "metadata": {
        "id": "lf3G1xfZzhCn"
      }
    },
    {
      "cell_type": "code",
      "source": [
        "paragraph_3 = 'Founder of Wavy AI research Foundation is from USA'\n",
        "\n",
        "words = nltk.word_tokenize(paragraph_3)"
      ],
      "metadata": {
        "id": "LKImcM9XzSjq"
      },
      "execution_count": 76,
      "outputs": []
    },
    {
      "cell_type": "code",
      "source": [
        "words"
      ],
      "metadata": {
        "colab": {
          "base_uri": "https://localhost:8080/"
        },
        "id": "Fey_FNgIzzA4",
        "outputId": "3c35f735-2d7c-4af9-8919-b97ca22670ca"
      },
      "execution_count": 77,
      "outputs": [
        {
          "output_type": "execute_result",
          "data": {
            "text/plain": [
              "['Founder', 'of', 'Wavy', 'AI', 'research', 'Foundation', 'is', 'from', 'USA']"
            ]
          },
          "metadata": {},
          "execution_count": 77
        }
      ]
    },
    {
      "cell_type": "code",
      "source": [
        "tagged_words = nltk.pos_tag(words)\n",
        "tagged_words"
      ],
      "metadata": {
        "colab": {
          "base_uri": "https://localhost:8080/"
        },
        "id": "k1u4tUjAzz8k",
        "outputId": "7178cb39-6973-4480-ca64-844924a7592c"
      },
      "execution_count": 78,
      "outputs": [
        {
          "output_type": "execute_result",
          "data": {
            "text/plain": [
              "[('Founder', 'NN'),\n",
              " ('of', 'IN'),\n",
              " ('Wavy', 'NNP'),\n",
              " ('AI', 'NNP'),\n",
              " ('research', 'NN'),\n",
              " ('Foundation', 'NNP'),\n",
              " ('is', 'VBZ'),\n",
              " ('from', 'IN'),\n",
              " ('USA', 'NNP')]"
            ]
          },
          "metadata": {},
          "execution_count": 78
        }
      ]
    },
    {
      "cell_type": "code",
      "source": [
        "nltk.download('maxent_ne_chunker')\n",
        "nltk.download('words')\n",
        "namedEnt = nltk.ne_chunk(tagged_words)\n",
        "namedEnt"
      ],
      "metadata": {
        "colab": {
          "base_uri": "https://localhost:8080/",
          "height": 487
        },
        "id": "Vu0XyN3uz8Dq",
        "outputId": "464efa33-226f-4ea8-ec9c-de7a5da85a45"
      },
      "execution_count": 79,
      "outputs": [
        {
          "output_type": "stream",
          "name": "stderr",
          "text": [
            "[nltk_data] Downloading package maxent_ne_chunker to\n",
            "[nltk_data]     /root/nltk_data...\n",
            "[nltk_data]   Package maxent_ne_chunker is already up-to-date!\n",
            "[nltk_data] Downloading package words to /root/nltk_data...\n",
            "[nltk_data]   Package words is already up-to-date!\n"
          ]
        },
        {
          "output_type": "error",
          "ename": "ModuleNotFoundError",
          "evalue": "ignored",
          "traceback": [
            "\u001b[0;31m---------------------------------------------------------------------------\u001b[0m",
            "\u001b[0;31mModuleNotFoundError\u001b[0m                       Traceback (most recent call last)",
            "\u001b[0;32m/usr/local/lib/python3.10/dist-packages/IPython/core/formatters.py\u001b[0m in \u001b[0;36m__call__\u001b[0;34m(self, obj)\u001b[0m\n\u001b[1;32m    343\u001b[0m             \u001b[0mmethod\u001b[0m \u001b[0;34m=\u001b[0m \u001b[0mget_real_method\u001b[0m\u001b[0;34m(\u001b[0m\u001b[0mobj\u001b[0m\u001b[0;34m,\u001b[0m \u001b[0mself\u001b[0m\u001b[0;34m.\u001b[0m\u001b[0mprint_method\u001b[0m\u001b[0;34m)\u001b[0m\u001b[0;34m\u001b[0m\u001b[0;34m\u001b[0m\u001b[0m\n\u001b[1;32m    344\u001b[0m             \u001b[0;32mif\u001b[0m \u001b[0mmethod\u001b[0m \u001b[0;32mis\u001b[0m \u001b[0;32mnot\u001b[0m \u001b[0;32mNone\u001b[0m\u001b[0;34m:\u001b[0m\u001b[0;34m\u001b[0m\u001b[0;34m\u001b[0m\u001b[0m\n\u001b[0;32m--> 345\u001b[0;31m                 \u001b[0;32mreturn\u001b[0m \u001b[0mmethod\u001b[0m\u001b[0;34m(\u001b[0m\u001b[0;34m)\u001b[0m\u001b[0;34m\u001b[0m\u001b[0;34m\u001b[0m\u001b[0m\n\u001b[0m\u001b[1;32m    346\u001b[0m             \u001b[0;32mreturn\u001b[0m \u001b[0;32mNone\u001b[0m\u001b[0;34m\u001b[0m\u001b[0;34m\u001b[0m\u001b[0m\n\u001b[1;32m    347\u001b[0m         \u001b[0;32melse\u001b[0m\u001b[0;34m:\u001b[0m\u001b[0;34m\u001b[0m\u001b[0;34m\u001b[0m\u001b[0m\n",
            "\u001b[0;32m/usr/local/lib/python3.10/dist-packages/nltk/tree/tree.py\u001b[0m in \u001b[0;36m_repr_svg_\u001b[0;34m(self)\u001b[0m\n\u001b[1;32m    780\u001b[0m \u001b[0;34m\u001b[0m\u001b[0m\n\u001b[1;32m    781\u001b[0m     \u001b[0;32mdef\u001b[0m \u001b[0m_repr_svg_\u001b[0m\u001b[0;34m(\u001b[0m\u001b[0mself\u001b[0m\u001b[0;34m)\u001b[0m\u001b[0;34m:\u001b[0m\u001b[0;34m\u001b[0m\u001b[0;34m\u001b[0m\u001b[0m\n\u001b[0;32m--> 782\u001b[0;31m         \u001b[0;32mfrom\u001b[0m \u001b[0msvgling\u001b[0m \u001b[0;32mimport\u001b[0m \u001b[0mdraw_tree\u001b[0m\u001b[0;34m\u001b[0m\u001b[0;34m\u001b[0m\u001b[0m\n\u001b[0m\u001b[1;32m    783\u001b[0m \u001b[0;34m\u001b[0m\u001b[0m\n\u001b[1;32m    784\u001b[0m         \u001b[0;32mreturn\u001b[0m \u001b[0mdraw_tree\u001b[0m\u001b[0;34m(\u001b[0m\u001b[0mself\u001b[0m\u001b[0;34m)\u001b[0m\u001b[0;34m.\u001b[0m\u001b[0m_repr_svg_\u001b[0m\u001b[0;34m(\u001b[0m\u001b[0;34m)\u001b[0m\u001b[0;34m\u001b[0m\u001b[0;34m\u001b[0m\u001b[0m\n",
            "\u001b[0;31mModuleNotFoundError\u001b[0m: No module named 'svgling'"
          ]
        },
        {
          "output_type": "execute_result",
          "data": {
            "text/plain": [
              "Tree('S', [('Founder', 'NN'), ('of', 'IN'), Tree('ORGANIZATION', [('Wavy', 'NNP')]), ('AI', 'NNP'), ('research', 'NN'), ('Foundation', 'NNP'), ('is', 'VBZ'), ('from', 'IN'), Tree('ORGANIZATION', [('USA', 'NNP')])])"
            ]
          },
          "metadata": {},
          "execution_count": 79
        }
      ]
    },
    {
      "cell_type": "markdown",
      "source": [
        "### Bag - of -words (BoW):\n",
        "The BoW is used in NLP which is used for information retrival for representing text data.It is way of converting text documents into a vector form and this vectos used as a numeric data for implementing our machine learning model.\n",
        "In BoW we geberally focus on the frequency of individual words.\n",
        "\n",
        "### How BoW model works\n",
        "- Tokenization  : to break the down a text doocument into individual words or tokens. This process involves removing punctuations, special characters and splitting the text into words\n",
        "- Vocubulary Construction : A unique vocublary is created by collecting all the unique words (tokes) from the entire corpus of documents. Each unique word is assigned a unique index or ID.\n",
        "\n",
        "- Vectorization : Foreach documents in the corpuse,a feature vector is constructed. These vectors has dimensionality equal to the size of the vocublary, and each element of the vector corresponds to a word in the vocublary. the element represents the frequency of the corresponding word in the document\n",
        "- Nomarlization : Optinally , you can normalize the feature vectors to ensure that documents of different length can be compared effectively.\n",
        "- Sparse Representation : BoW feture vectors are often sparse because most documents only contains a subset of the words in the vocublary. This sparcity can be handle efficiently in many machine learning libraries.\n",
        "\n",
        "Ex 🇰\n",
        "suppose we have 2 docs\n",
        "- Doc1 : \"The cat in the hat\"\n",
        "- Doc2 : \"The quick brown fox\"\n",
        "\n",
        "If we will construct the vocublary\n",
        "- vocublary : {\"The \", \"cat\",\"in\",\"the\",\"hat\",\"quick\",\"brown\",\"fox\"}\n",
        "\n",
        "You created BoW feature vecots for each documents\n",
        "\n",
        "- Doc1 = [2,1,1,1,1,0,0,0]\n",
        "- Doc2 : [1,0,0,1,0,1,1,1]\n",
        "these vecotrs , the 1st element corresponds to \"The\" the second to the  \"cat\"\n",
        "\n",
        "BoW model is the basic representation of text data and doesn't capture word order or semantic. Still valueable for NLP task like classification. sentiment analysis, document retrival, especially when combined with more advanced techinquies.\n",
        "\n"
      ],
      "metadata": {
        "id": "E3hbRicRCenX"
      }
    },
    {
      "cell_type": "code",
      "source": [
        "paragraph= \"\"\"Tell General Howard I know his heart. What he told me before, I have it in my heart. I am tired of fighting.\n",
        "Our Chiefs are killed; Looking Glass is dead, Ta Hool Hool Shute is dead. The old men are all dead. It is the young men who\n",
        "say yes or no. He who led on the young men is dead. It is cold, and we have no blankets; the little children are freezing\n",
        "to death. My people, some of them, have run away to the hills, and have no blankets, no food. No one knows where they are\n",
        "– perhaps freezing to death. I want to have time to look for my children, and see how many of them I can find. Maybe I\n",
        "shall find them among the dead. Hear me, my Chiefs! I am tired; my heart is sick and sad. From where the sun now stands\n",
        "I will fight no more forever.\"\"\"\n"
      ],
      "metadata": {
        "id": "5vhWVUVh0LsH"
      },
      "execution_count": 80,
      "outputs": []
    },
    {
      "cell_type": "code",
      "source": [
        "\n",
        "data = nltk.sent_tokenize(paragraph)\n",
        "data"
      ],
      "metadata": {
        "colab": {
          "base_uri": "https://localhost:8080/"
        },
        "id": "3k0SDWbUIMx6",
        "outputId": "d8e9b4b1-9c1f-4a3f-933a-4d7b5a9cb4e4"
      },
      "execution_count": 81,
      "outputs": [
        {
          "output_type": "execute_result",
          "data": {
            "text/plain": [
              "['Tell General Howard I know his heart.',\n",
              " 'What he told me before, I have it in my heart.',\n",
              " 'I am tired of fighting.',\n",
              " 'Our Chiefs are killed; Looking Glass is dead, Ta Hool Hool Shute is dead.',\n",
              " 'The old men are all dead.',\n",
              " 'It is the young men who\\nsay yes or no.',\n",
              " 'He who led on the young men is dead.',\n",
              " 'It is cold, and we have no blankets; the little children are freezing\\nto death.',\n",
              " 'My people, some of them, have run away to the hills, and have no blankets, no food.',\n",
              " 'No one knows where they are\\n– perhaps freezing to death.',\n",
              " 'I want to have time to look for my children, and see how many of them I can find.',\n",
              " 'Maybe I\\nshall find them among the dead.',\n",
              " 'Hear me, my Chiefs!',\n",
              " 'I am tired; my heart is sick and sad.',\n",
              " 'From where the sun now stands\\nI will fight no more forever.']"
            ]
          },
          "metadata": {},
          "execution_count": 81
        }
      ]
    },
    {
      "cell_type": "code",
      "source": [
        "# Clean our text\n",
        "import re\n",
        "for i in range(len(data)):\n",
        "  # we will conver all the words to its lower form\n",
        "\n",
        "  data[i] = data[i].lower()\n",
        "  data[i] = re.sub(r'\\W',' ',data[i])\n",
        "  data[i] = re.sub(r'\\s+',' ', data[i])\n",
        "\n",
        "print(data)"
      ],
      "metadata": {
        "colab": {
          "base_uri": "https://localhost:8080/"
        },
        "id": "FoGg8cnWIcxJ",
        "outputId": "2eb3f76d-57b0-4a59-aef3-62caccfb3db5"
      },
      "execution_count": 82,
      "outputs": [
        {
          "output_type": "stream",
          "name": "stdout",
          "text": [
            "['tell general howard i know his heart ', 'what he told me before i have it in my heart ', 'i am tired of fighting ', 'our chiefs are killed looking glass is dead ta hool hool shute is dead ', 'the old men are all dead ', 'it is the young men who say yes or no ', 'he who led on the young men is dead ', 'it is cold and we have no blankets the little children are freezing to death ', 'my people some of them have run away to the hills and have no blankets no food ', 'no one knows where they are perhaps freezing to death ', 'i want to have time to look for my children and see how many of them i can find ', 'maybe i shall find them among the dead ', 'hear me my chiefs ', 'i am tired my heart is sick and sad ', 'from where the sun now stands i will fight no more forever ']\n"
          ]
        }
      ]
    },
    {
      "cell_type": "markdown",
      "source": [
        "Count of distinct words in data dataset"
      ],
      "metadata": {
        "id": "AUNDYWVSmjaK"
      }
    },
    {
      "cell_type": "code",
      "source": [
        "from matplotlib import figure\n",
        "import matplotlib.pyplot as plt\n",
        "# creating the histogram\n",
        "import pandas as pd\n",
        "word2count = {}\n",
        "for datanew in data:\n",
        "  words = nltk.word_tokenize(datanew)\n",
        "  for word in words:\n",
        "    if word not in word2count.keys():\n",
        "      word2count[word] = 1\n",
        "    else:\n",
        "      word2count[word] += 1\n",
        "l1=word2count.keys()\n",
        "a = range(1,30)\n",
        "# print histogram from this dictionary\n",
        "# 1 st you will convert this dictionary to a DataFrame\n",
        "word2count"
      ],
      "metadata": {
        "colab": {
          "base_uri": "https://localhost:8080/"
        },
        "id": "XVfLNrFgIoA5",
        "outputId": "199b6a96-f407-4c8b-f7ca-3ba129663518"
      },
      "execution_count": 83,
      "outputs": [
        {
          "output_type": "execute_result",
          "data": {
            "text/plain": [
              "{'tell': 1,\n",
              " 'general': 1,\n",
              " 'howard': 1,\n",
              " 'i': 8,\n",
              " 'know': 1,\n",
              " 'his': 1,\n",
              " 'heart': 3,\n",
              " 'what': 1,\n",
              " 'he': 2,\n",
              " 'told': 1,\n",
              " 'me': 2,\n",
              " 'before': 1,\n",
              " 'have': 5,\n",
              " 'it': 3,\n",
              " 'in': 1,\n",
              " 'my': 5,\n",
              " 'am': 2,\n",
              " 'tired': 2,\n",
              " 'of': 3,\n",
              " 'fighting': 1,\n",
              " 'our': 1,\n",
              " 'chiefs': 2,\n",
              " 'are': 4,\n",
              " 'killed': 1,\n",
              " 'looking': 1,\n",
              " 'glass': 1,\n",
              " 'is': 6,\n",
              " 'dead': 5,\n",
              " 'ta': 1,\n",
              " 'hool': 2,\n",
              " 'shute': 1,\n",
              " 'the': 7,\n",
              " 'old': 1,\n",
              " 'men': 3,\n",
              " 'all': 1,\n",
              " 'young': 2,\n",
              " 'who': 2,\n",
              " 'say': 1,\n",
              " 'yes': 1,\n",
              " 'or': 1,\n",
              " 'no': 6,\n",
              " 'led': 1,\n",
              " 'on': 1,\n",
              " 'cold': 1,\n",
              " 'and': 4,\n",
              " 'we': 1,\n",
              " 'blankets': 2,\n",
              " 'little': 1,\n",
              " 'children': 2,\n",
              " 'freezing': 2,\n",
              " 'to': 5,\n",
              " 'death': 2,\n",
              " 'people': 1,\n",
              " 'some': 1,\n",
              " 'them': 3,\n",
              " 'run': 1,\n",
              " 'away': 1,\n",
              " 'hills': 1,\n",
              " 'food': 1,\n",
              " 'one': 1,\n",
              " 'knows': 1,\n",
              " 'where': 2,\n",
              " 'they': 1,\n",
              " 'perhaps': 1,\n",
              " 'want': 1,\n",
              " 'time': 1,\n",
              " 'look': 1,\n",
              " 'for': 1,\n",
              " 'see': 1,\n",
              " 'how': 1,\n",
              " 'many': 1,\n",
              " 'can': 1,\n",
              " 'find': 2,\n",
              " 'maybe': 1,\n",
              " 'shall': 1,\n",
              " 'among': 1,\n",
              " 'hear': 1,\n",
              " 'sick': 1,\n",
              " 'sad': 1,\n",
              " 'from': 1,\n",
              " 'sun': 1,\n",
              " 'now': 1,\n",
              " 'stands': 1,\n",
              " 'will': 1,\n",
              " 'fight': 1,\n",
              " 'more': 1,\n",
              " 'forever': 1}"
            ]
          },
          "metadata": {},
          "execution_count": 83
        }
      ]
    },
    {
      "cell_type": "code",
      "source": [
        "#print histogram from this dictionary\n",
        "# 1 st you will convert this dictionary to a DataFrame\n",
        "import numpy as np\n",
        "plt.figsize = plt.figure(figsize=(10,10))\n",
        "arr = [100]\n",
        "arr = np.array(word2count.values())\n",
        "print(arr)\n",
        "plt.hist(word2count.values(),bins = 8)\n",
        "#,bins=[1,10],range = [1,10],label=pdf.columns)\n",
        "plt.show()"
      ],
      "metadata": {
        "colab": {
          "base_uri": "https://localhost:8080/",
          "height": 867
        },
        "id": "-tolrGYOGxrF",
        "outputId": "010aa108-4ce1-4e8b-c562-3e1ac91d6467"
      },
      "execution_count": 84,
      "outputs": [
        {
          "output_type": "stream",
          "name": "stdout",
          "text": [
            "dict_values([1, 1, 1, 8, 1, 1, 3, 1, 2, 1, 2, 1, 5, 3, 1, 5, 2, 2, 3, 1, 1, 2, 4, 1, 1, 1, 6, 5, 1, 2, 1, 7, 1, 3, 1, 2, 2, 1, 1, 1, 6, 1, 1, 1, 4, 1, 2, 1, 2, 2, 5, 2, 1, 1, 3, 1, 1, 1, 1, 1, 1, 2, 1, 1, 1, 1, 1, 1, 1, 1, 1, 1, 2, 1, 1, 1, 1, 1, 1, 1, 1, 1, 1, 1, 1, 1, 1])\n"
          ]
        },
        {
          "output_type": "display_data",
          "data": {
            "text/plain": [
              "<Figure size 1000x1000 with 1 Axes>"
            ],
            "image/png": "[encoded data removed]"
          },
          "metadata": {}
        }
      ]
    },
    {
      "cell_type": "code",
      "source": [
        "import heapq\n",
        "freq_word = heapq.nlargest(100, word2count, key = word2count.get)"
      ],
      "metadata": {
        "id": "YxzME_1TLBqt"
      },
      "execution_count": 85,
      "outputs": []
    },
    {
      "cell_type": "markdown",
      "source": [],
      "metadata": {
        "id": "4Ax9J6wJoca1"
      }
    },
    {
      "cell_type": "code",
      "source": [
        "freq_word"
      ],
      "metadata": {
        "colab": {
          "base_uri": "https://localhost:8080/"
        },
        "id": "fmJGQ4RgNCMV",
        "outputId": "0891240d-988c-4d74-8a6d-d6bd227174ea"
      },
      "execution_count": 86,
      "outputs": [
        {
          "output_type": "execute_result",
          "data": {
            "text/plain": [
              "['i',\n",
              " 'the',\n",
              " 'is',\n",
              " 'no',\n",
              " 'have',\n",
              " 'my',\n",
              " 'dead',\n",
              " 'to',\n",
              " 'are',\n",
              " 'and',\n",
              " 'heart',\n",
              " 'it',\n",
              " 'of',\n",
              " 'men',\n",
              " 'them',\n",
              " 'he',\n",
              " 'me',\n",
              " 'am',\n",
              " 'tired',\n",
              " 'chiefs',\n",
              " 'hool',\n",
              " 'young',\n",
              " 'who',\n",
              " 'blankets',\n",
              " 'children',\n",
              " 'freezing',\n",
              " 'death',\n",
              " 'where',\n",
              " 'find',\n",
              " 'tell',\n",
              " 'general',\n",
              " 'howard',\n",
              " 'know',\n",
              " 'his',\n",
              " 'what',\n",
              " 'told',\n",
              " 'before',\n",
              " 'in',\n",
              " 'fighting',\n",
              " 'our',\n",
              " 'killed',\n",
              " 'looking',\n",
              " 'glass',\n",
              " 'ta',\n",
              " 'shute',\n",
              " 'old',\n",
              " 'all',\n",
              " 'say',\n",
              " 'yes',\n",
              " 'or',\n",
              " 'led',\n",
              " 'on',\n",
              " 'cold',\n",
              " 'we',\n",
              " 'little',\n",
              " 'people',\n",
              " 'some',\n",
              " 'run',\n",
              " 'away',\n",
              " 'hills',\n",
              " 'food',\n",
              " 'one',\n",
              " 'knows',\n",
              " 'they',\n",
              " 'perhaps',\n",
              " 'want',\n",
              " 'time',\n",
              " 'look',\n",
              " 'for',\n",
              " 'see',\n",
              " 'how',\n",
              " 'many',\n",
              " 'can',\n",
              " 'maybe',\n",
              " 'shall',\n",
              " 'among',\n",
              " 'hear',\n",
              " 'sick',\n",
              " 'sad',\n",
              " 'from',\n",
              " 'sun',\n",
              " 'now',\n",
              " 'stands',\n",
              " 'will',\n",
              " 'fight',\n",
              " 'more',\n",
              " 'forever']"
            ]
          },
          "metadata": {},
          "execution_count": 86
        }
      ]
    },
    {
      "cell_type": "code",
      "source": [
        "# we will create BoW model\n",
        "x = []\n",
        "\n",
        "for data_1 in data:\n",
        "  vector = []\n",
        "  for word in freq_word:\n",
        "    if word in nltk.word_tokenize(data_1):\n",
        "      vector.append(1)\n",
        "    else:\n",
        "      vector.append(0)\n",
        "\n",
        "  x.append(vector)"
      ],
      "metadata": {
        "id": "MtN2XGBkNKtT"
      },
      "execution_count": 87,
      "outputs": []
    },
    {
      "cell_type": "code",
      "source": [
        "print(x)\n",
        "type(x)"
      ],
      "metadata": {
        "colab": {
          "base_uri": "https://localhost:8080/"
        },
        "id": "Fn6m92_zNr36",
        "outputId": "4a7cfe1c-0d90-45e2-b4c8-00157254b456"
      },
      "execution_count": 88,
      "outputs": [
        {
          "output_type": "stream",
          "name": "stdout",
          "text": [
            "[[1, 0, 0, 0, 0, 0, 0, 0, 0, 0, 1, 0, 0, 0, 0, 0, 0, 0, 0, 0, 0, 0, 0, 0, 0, 0, 0, 0, 0, 1, 1, 1, 1, 1, 0, 0, 0, 0, 0, 0, 0, 0, 0, 0, 0, 0, 0, 0, 0, 0, 0, 0, 0, 0, 0, 0, 0, 0, 0, 0, 0, 0, 0, 0, 0, 0, 0, 0, 0, 0, 0, 0, 0, 0, 0, 0, 0, 0, 0, 0, 0, 0, 0, 0, 0, 0, 0], [1, 0, 0, 0, 1, 1, 0, 0, 0, 0, 1, 1, 0, 0, 0, 1, 1, 0, 0, 0, 0, 0, 0, 0, 0, 0, 0, 0, 0, 0, 0, 0, 0, 0, 1, 1, 1, 1, 0, 0, 0, 0, 0, 0, 0, 0, 0, 0, 0, 0, 0, 0, 0, 0, 0, 0, 0, 0, 0, 0, 0, 0, 0, 0, 0, 0, 0, 0, 0, 0, 0, 0, 0, 0, 0, 0, 0, 0, 0, 0, 0, 0, 0, 0, 0, 0, 0], [1, 0, 0, 0, 0, 0, 0, 0, 0, 0, 0, 0, 1, 0, 0, 0, 0, 1, 1, 0, 0, 0, 0, 0, 0, 0, 0, 0, 0, 0, 0, 0, 0, 0, 0, 0, 0, 0, 1, 0, 0, 0, 0, 0, 0, 0, 0, 0, 0, 0, 0, 0, 0, 0, 0, 0, 0, 0, 0, 0, 0, 0, 0, 0, 0, 0, 0, 0, 0, 0, 0, 0, 0, 0, 0, 0, 0, 0, 0, 0, 0, 0, 0, 0, 0, 0, 0], [0, 0, 1, 0, 0, 0, 1, 0, 1, 0, 0, 0, 0, 0, 0, 0, 0, 0, 0, 1, 1, 0, 0, 0, 0, 0, 0, 0, 0, 0, 0, 0, 0, 0, 0, 0, 0, 0, 0, 1, 1, 1, 1, 1, 1, 0, 0, 0, 0, 0, 0, 0, 0, 0, 0, 0, 0, 0, 0, 0, 0, 0, 0, 0, 0, 0, 0, 0, 0, 0, 0, 0, 0, 0, 0, 0, 0, 0, 0, 0, 0, 0, 0, 0, 0, 0, 0], [0, 1, 0, 0, 0, 0, 1, 0, 1, 0, 0, 0, 0, 1, 0, 0, 0, 0, 0, 0, 0, 0, 0, 0, 0, 0, 0, 0, 0, 0, 0, 0, 0, 0, 0, 0, 0, 0, 0, 0, 0, 0, 0, 0, 0, 1, 1, 0, 0, 0, 0, 0, 0, 0, 0, 0, 0, 0, 0, 0, 0, 0, 0, 0, 0, 0, 0, 0, 0, 0, 0, 0, 0, 0, 0, 0, 0, 0, 0, 0, 0, 0, 0, 0, 0, 0, 0], [0, 1, 1, 1, 0, 0, 0, 0, 0, 0, 0, 1, 0, 1, 0, 0, 0, 0, 0, 0, 0, 1, 1, 0, 0, 0, 0, 0, 0, 0, 0, 0, 0, 0, 0, 0, 0, 0, 0, 0, 0, 0, 0, 0, 0, 0, 0, 1, 1, 1, 0, 0, 0, 0, 0, 0, 0, 0, 0, 0, 0, 0, 0, 0, 0, 0, 0, 0, 0, 0, 0, 0, 0, 0, 0, 0, 0, 0, 0, 0, 0, 0, 0, 0, 0, 0, 0], [0, 1, 1, 0, 0, 0, 1, 0, 0, 0, 0, 0, 0, 1, 0, 1, 0, 0, 0, 0, 0, 1, 1, 0, 0, 0, 0, 0, 0, 0, 0, 0, 0, 0, 0, 0, 0, 0, 0, 0, 0, 0, 0, 0, 0, 0, 0, 0, 0, 0, 1, 1, 0, 0, 0, 0, 0, 0, 0, 0, 0, 0, 0, 0, 0, 0, 0, 0, 0, 0, 0, 0, 0, 0, 0, 0, 0, 0, 0, 0, 0, 0, 0, 0, 0, 0, 0], [0, 1, 1, 1, 1, 0, 0, 1, 1, 1, 0, 1, 0, 0, 0, 0, 0, 0, 0, 0, 0, 0, 0, 1, 1, 1, 1, 0, 0, 0, 0, 0, 0, 0, 0, 0, 0, 0, 0, 0, 0, 0, 0, 0, 0, 0, 0, 0, 0, 0, 0, 0, 1, 1, 1, 0, 0, 0, 0, 0, 0, 0, 0, 0, 0, 0, 0, 0, 0, 0, 0, 0, 0, 0, 0, 0, 0, 0, 0, 0, 0, 0, 0, 0, 0, 0, 0], [0, 1, 0, 1, 1, 1, 0, 1, 0, 1, 0, 0, 1, 0, 1, 0, 0, 0, 0, 0, 0, 0, 0, 1, 0, 0, 0, 0, 0, 0, 0, 0, 0, 0, 0, 0, 0, 0, 0, 0, 0, 0, 0, 0, 0, 0, 0, 0, 0, 0, 0, 0, 0, 0, 0, 1, 1, 1, 1, 1, 1, 0, 0, 0, 0, 0, 0, 0, 0, 0, 0, 0, 0, 0, 0, 0, 0, 0, 0, 0, 0, 0, 0, 0, 0, 0, 0], [0, 0, 0, 1, 0, 0, 0, 1, 1, 0, 0, 0, 0, 0, 0, 0, 0, 0, 0, 0, 0, 0, 0, 0, 0, 1, 1, 1, 0, 0, 0, 0, 0, 0, 0, 0, 0, 0, 0, 0, 0, 0, 0, 0, 0, 0, 0, 0, 0, 0, 0, 0, 0, 0, 0, 0, 0, 0, 0, 0, 0, 1, 1, 1, 1, 0, 0, 0, 0, 0, 0, 0, 0, 0, 0, 0, 0, 0, 0, 0, 0, 0, 0, 0, 0, 0, 0], [1, 0, 0, 0, 1, 1, 0, 1, 0, 1, 0, 0, 1, 0, 1, 0, 0, 0, 0, 0, 0, 0, 0, 0, 1, 0, 0, 0, 1, 0, 0, 0, 0, 0, 0, 0, 0, 0, 0, 0, 0, 0, 0, 0, 0, 0, 0, 0, 0, 0, 0, 0, 0, 0, 0, 0, 0, 0, 0, 0, 0, 0, 0, 0, 0, 1, 1, 1, 1, 1, 1, 1, 1, 0, 0, 0, 0, 0, 0, 0, 0, 0, 0, 0, 0, 0, 0], [1, 1, 0, 0, 0, 0, 1, 0, 0, 0, 0, 0, 0, 0, 1, 0, 0, 0, 0, 0, 0, 0, 0, 0, 0, 0, 0, 0, 1, 0, 0, 0, 0, 0, 0, 0, 0, 0, 0, 0, 0, 0, 0, 0, 0, 0, 0, 0, 0, 0, 0, 0, 0, 0, 0, 0, 0, 0, 0, 0, 0, 0, 0, 0, 0, 0, 0, 0, 0, 0, 0, 0, 0, 1, 1, 1, 0, 0, 0, 0, 0, 0, 0, 0, 0, 0, 0], [0, 0, 0, 0, 0, 1, 0, 0, 0, 0, 0, 0, 0, 0, 0, 0, 1, 0, 0, 1, 0, 0, 0, 0, 0, 0, 0, 0, 0, 0, 0, 0, 0, 0, 0, 0, 0, 0, 0, 0, 0, 0, 0, 0, 0, 0, 0, 0, 0, 0, 0, 0, 0, 0, 0, 0, 0, 0, 0, 0, 0, 0, 0, 0, 0, 0, 0, 0, 0, 0, 0, 0, 0, 0, 0, 0, 1, 0, 0, 0, 0, 0, 0, 0, 0, 0, 0], [1, 0, 1, 0, 0, 1, 0, 0, 0, 1, 1, 0, 0, 0, 0, 0, 0, 1, 1, 0, 0, 0, 0, 0, 0, 0, 0, 0, 0, 0, 0, 0, 0, 0, 0, 0, 0, 0, 0, 0, 0, 0, 0, 0, 0, 0, 0, 0, 0, 0, 0, 0, 0, 0, 0, 0, 0, 0, 0, 0, 0, 0, 0, 0, 0, 0, 0, 0, 0, 0, 0, 0, 0, 0, 0, 0, 0, 1, 1, 0, 0, 0, 0, 0, 0, 0, 0], [1, 1, 0, 1, 0, 0, 0, 0, 0, 0, 0, 0, 0, 0, 0, 0, 0, 0, 0, 0, 0, 0, 0, 0, 0, 0, 0, 1, 0, 0, 0, 0, 0, 0, 0, 0, 0, 0, 0, 0, 0, 0, 0, 0, 0, 0, 0, 0, 0, 0, 0, 0, 0, 0, 0, 0, 0, 0, 0, 0, 0, 0, 0, 0, 0, 0, 0, 0, 0, 0, 0, 0, 0, 0, 0, 0, 0, 0, 0, 1, 1, 1, 1, 1, 1, 1, 1]]\n"
          ]
        },
        {
          "output_type": "execute_result",
          "data": {
            "text/plain": [
              "list"
            ]
          },
          "metadata": {},
          "execution_count": 88
        }
      ]
    },
    {
      "cell_type": "code",
      "source": [],
      "metadata": {
        "id": "GulvMRwdvuMt"
      },
      "execution_count": 88,
      "outputs": []
    },
    {
      "cell_type": "code",
      "source": [
        "import numpy as np\n",
        "b_o_W = np.asarray(x)"
      ],
      "metadata": {
        "id": "L5o8TTFbNtHw"
      },
      "execution_count": 89,
      "outputs": []
    },
    {
      "cell_type": "code",
      "source": [
        "b_o_W"
      ],
      "metadata": {
        "colab": {
          "base_uri": "https://localhost:8080/"
        },
        "id": "BBBn5MJ_N9FR",
        "outputId": "a4e5052c-7c70-40c5-f0ec-752b192bd432"
      },
      "execution_count": 90,
      "outputs": [
        {
          "output_type": "execute_result",
          "data": {
            "text/plain": [
              "array([[1, 0, 0, ..., 0, 0, 0],\n",
              "       [1, 0, 0, ..., 0, 0, 0],\n",
              "       [1, 0, 0, ..., 0, 0, 0],\n",
              "       ...,\n",
              "       [0, 0, 0, ..., 0, 0, 0],\n",
              "       [1, 0, 1, ..., 0, 0, 0],\n",
              "       [1, 1, 0, ..., 1, 1, 1]])"
            ]
          },
          "metadata": {},
          "execution_count": 90
        }
      ]
    },
    {
      "cell_type": "markdown",
      "source": [
        "### TF-IDF (Term Frequency-Inverse Documnet Frequency)\n",
        "\n",
        "- 1. Purpose: TF-IDF -> It is used for information retrieval , text minning and document similarity task. It also help us in understanding the importance of a sword within a document relative to its importance across the entire corpus.\n",
        "\n",
        "- 2. Representation :  It represents eachw ord as numerical values that reflects its importance in a sepecific documnet reltive to the entire corpus. TF-IDF assign higher values to words that appea frequently in adocument but not in mane other document.\n",
        "\n",
        "-3 . Sparsity : TF-IDF vectors are typically sparse because they emphasize the distinctiveness of words in a documents. Most entries in a TF_IDF vectors are zero.\n",
        "\n",
        "- 4. Eorod Independence : TF-IDF treats words as independent entities, and it doesnot capture semantic relatioship betweeen words.\n"
      ],
      "metadata": {
        "id": "P0JsopsjOPEQ"
      }
    },
    {
      "cell_type": "code",
      "source": [
        "# IDF Matrix (inverse document frequency)\n",
        "word_idfs = {}\n",
        "\n",
        "for word in freq_word:\n",
        "  doc_count = 0\n",
        "  for data_2 in data:\n",
        "    if word in nltk.word_tokenize(data_2):\n",
        "      doc_count  +=1\n",
        "  word_idfs[word] = np.log((len(data)/doc_count)+1)"
      ],
      "metadata": {
        "id": "K6jFXZgQN_lg"
      },
      "execution_count": 91,
      "outputs": []
    },
    {
      "cell_type": "code",
      "source": [
        "print(word_idfs)"
      ],
      "metadata": {
        "colab": {
          "base_uri": "https://localhost:8080/"
        },
        "id": "OIDkP6cfRwi0",
        "outputId": "8e80a2b4-9c48-4dcd-cf13-69a10bf5d35e"
      },
      "execution_count": 92,
      "outputs": [
        {
          "output_type": "stream",
          "name": "stdout",
          "text": [
            "{'i': 1.1451323043030026, 'the': 1.1451323043030026, 'is': 1.3862943611198906, 'no': 1.3862943611198906, 'have': 1.55814461804655, 'my': 1.3862943611198906, 'dead': 1.55814461804655, 'to': 1.55814461804655, 'are': 1.55814461804655, 'and': 1.55814461804655, 'heart': 1.791759469228055, 'it': 1.791759469228055, 'of': 1.791759469228055, 'men': 1.791759469228055, 'them': 1.791759469228055, 'he': 2.1400661634962708, 'me': 2.1400661634962708, 'am': 2.1400661634962708, 'tired': 2.1400661634962708, 'chiefs': 2.1400661634962708, 'hool': 2.772588722239781, 'young': 2.1400661634962708, 'who': 2.1400661634962708, 'blankets': 2.1400661634962708, 'children': 2.1400661634962708, 'freezing': 2.1400661634962708, 'death': 2.1400661634962708, 'where': 2.1400661634962708, 'find': 2.1400661634962708, 'tell': 2.772588722239781, 'general': 2.772588722239781, 'howard': 2.772588722239781, 'know': 2.772588722239781, 'his': 2.772588722239781, 'what': 2.772588722239781, 'told': 2.772588722239781, 'before': 2.772588722239781, 'in': 2.772588722239781, 'fighting': 2.772588722239781, 'our': 2.772588722239781, 'killed': 2.772588722239781, 'looking': 2.772588722239781, 'glass': 2.772588722239781, 'ta': 2.772588722239781, 'shute': 2.772588722239781, 'old': 2.772588722239781, 'all': 2.772588722239781, 'say': 2.772588722239781, 'yes': 2.772588722239781, 'or': 2.772588722239781, 'led': 2.772588722239781, 'on': 2.772588722239781, 'cold': 2.772588722239781, 'we': 2.772588722239781, 'little': 2.772588722239781, 'people': 2.772588722239781, 'some': 2.772588722239781, 'run': 2.772588722239781, 'away': 2.772588722239781, 'hills': 2.772588722239781, 'food': 2.772588722239781, 'one': 2.772588722239781, 'knows': 2.772588722239781, 'they': 2.772588722239781, 'perhaps': 2.772588722239781, 'want': 2.772588722239781, 'time': 2.772588722239781, 'look': 2.772588722239781, 'for': 2.772588722239781, 'see': 2.772588722239781, 'how': 2.772588722239781, 'many': 2.772588722239781, 'can': 2.772588722239781, 'maybe': 2.772588722239781, 'shall': 2.772588722239781, 'among': 2.772588722239781, 'hear': 2.772588722239781, 'sick': 2.772588722239781, 'sad': 2.772588722239781, 'from': 2.772588722239781, 'sun': 2.772588722239781, 'now': 2.772588722239781, 'stands': 2.772588722239781, 'will': 2.772588722239781, 'fight': 2.772588722239781, 'more': 2.772588722239781, 'forever': 2.772588722239781}\n"
          ]
        }
      ]
    },
    {
      "cell_type": "code",
      "source": [
        "# TF - Term Frequency\n",
        "\n",
        "tf_matrix = {}\n",
        "for word in freq_word:\n",
        "  doc_tf = []\n",
        "  for data_3 in data:\n",
        "    frequency = 0\n",
        "    for w in nltk.word_tokenize(data_3):\n",
        "      if w == word:\n",
        "        frequency += 1\n",
        "    tf_word = frequency/len(nltk.word_tokenize(data_3))\n",
        "    doc_tf.append(tf_word)\n",
        "\n",
        "  tf_matrix[word] = doc_tf"
      ],
      "metadata": {
        "id": "PnwhqEQ3SP70"
      },
      "execution_count": 93,
      "outputs": []
    },
    {
      "cell_type": "code",
      "source": [
        "tf_matrix"
      ],
      "metadata": {
        "colab": {
          "base_uri": "https://localhost:8080/"
        },
        "id": "uFdfJG6UTQQ8",
        "outputId": "998ba6b0-ec6e-4f26-e58f-9d7a798d64aa"
      },
      "execution_count": 94,
      "outputs": [
        {
          "output_type": "execute_result",
          "data": {
            "text/plain": [
              "{'i': [0.14285714285714285,\n",
              "  0.09090909090909091,\n",
              "  0.2,\n",
              "  0.0,\n",
              "  0.0,\n",
              "  0.0,\n",
              "  0.0,\n",
              "  0.0,\n",
              "  0.0,\n",
              "  0.0,\n",
              "  0.10526315789473684,\n",
              "  0.125,\n",
              "  0.0,\n",
              "  0.1111111111111111,\n",
              "  0.08333333333333333],\n",
              " 'the': [0.0,\n",
              "  0.0,\n",
              "  0.0,\n",
              "  0.0,\n",
              "  0.16666666666666666,\n",
              "  0.1,\n",
              "  0.1111111111111111,\n",
              "  0.06666666666666667,\n",
              "  0.058823529411764705,\n",
              "  0.0,\n",
              "  0.0,\n",
              "  0.125,\n",
              "  0.0,\n",
              "  0.0,\n",
              "  0.08333333333333333],\n",
              " 'is': [0.0,\n",
              "  0.0,\n",
              "  0.0,\n",
              "  0.14285714285714285,\n",
              "  0.0,\n",
              "  0.1,\n",
              "  0.1111111111111111,\n",
              "  0.06666666666666667,\n",
              "  0.0,\n",
              "  0.0,\n",
              "  0.0,\n",
              "  0.0,\n",
              "  0.0,\n",
              "  0.1111111111111111,\n",
              "  0.0],\n",
              " 'no': [0.0,\n",
              "  0.0,\n",
              "  0.0,\n",
              "  0.0,\n",
              "  0.0,\n",
              "  0.1,\n",
              "  0.0,\n",
              "  0.06666666666666667,\n",
              "  0.11764705882352941,\n",
              "  0.1,\n",
              "  0.0,\n",
              "  0.0,\n",
              "  0.0,\n",
              "  0.0,\n",
              "  0.08333333333333333],\n",
              " 'have': [0.0,\n",
              "  0.09090909090909091,\n",
              "  0.0,\n",
              "  0.0,\n",
              "  0.0,\n",
              "  0.0,\n",
              "  0.0,\n",
              "  0.06666666666666667,\n",
              "  0.11764705882352941,\n",
              "  0.0,\n",
              "  0.05263157894736842,\n",
              "  0.0,\n",
              "  0.0,\n",
              "  0.0,\n",
              "  0.0],\n",
              " 'my': [0.0,\n",
              "  0.09090909090909091,\n",
              "  0.0,\n",
              "  0.0,\n",
              "  0.0,\n",
              "  0.0,\n",
              "  0.0,\n",
              "  0.0,\n",
              "  0.058823529411764705,\n",
              "  0.0,\n",
              "  0.05263157894736842,\n",
              "  0.0,\n",
              "  0.25,\n",
              "  0.1111111111111111,\n",
              "  0.0],\n",
              " 'dead': [0.0,\n",
              "  0.0,\n",
              "  0.0,\n",
              "  0.14285714285714285,\n",
              "  0.16666666666666666,\n",
              "  0.0,\n",
              "  0.1111111111111111,\n",
              "  0.0,\n",
              "  0.0,\n",
              "  0.0,\n",
              "  0.0,\n",
              "  0.125,\n",
              "  0.0,\n",
              "  0.0,\n",
              "  0.0],\n",
              " 'to': [0.0,\n",
              "  0.0,\n",
              "  0.0,\n",
              "  0.0,\n",
              "  0.0,\n",
              "  0.0,\n",
              "  0.0,\n",
              "  0.06666666666666667,\n",
              "  0.058823529411764705,\n",
              "  0.1,\n",
              "  0.10526315789473684,\n",
              "  0.0,\n",
              "  0.0,\n",
              "  0.0,\n",
              "  0.0],\n",
              " 'are': [0.0,\n",
              "  0.0,\n",
              "  0.0,\n",
              "  0.07142857142857142,\n",
              "  0.16666666666666666,\n",
              "  0.0,\n",
              "  0.0,\n",
              "  0.06666666666666667,\n",
              "  0.0,\n",
              "  0.1,\n",
              "  0.0,\n",
              "  0.0,\n",
              "  0.0,\n",
              "  0.0,\n",
              "  0.0],\n",
              " 'and': [0.0,\n",
              "  0.0,\n",
              "  0.0,\n",
              "  0.0,\n",
              "  0.0,\n",
              "  0.0,\n",
              "  0.0,\n",
              "  0.06666666666666667,\n",
              "  0.058823529411764705,\n",
              "  0.0,\n",
              "  0.05263157894736842,\n",
              "  0.0,\n",
              "  0.0,\n",
              "  0.1111111111111111,\n",
              "  0.0],\n",
              " 'heart': [0.14285714285714285,\n",
              "  0.09090909090909091,\n",
              "  0.0,\n",
              "  0.0,\n",
              "  0.0,\n",
              "  0.0,\n",
              "  0.0,\n",
              "  0.0,\n",
              "  0.0,\n",
              "  0.0,\n",
              "  0.0,\n",
              "  0.0,\n",
              "  0.0,\n",
              "  0.1111111111111111,\n",
              "  0.0],\n",
              " 'it': [0.0,\n",
              "  0.09090909090909091,\n",
              "  0.0,\n",
              "  0.0,\n",
              "  0.0,\n",
              "  0.1,\n",
              "  0.0,\n",
              "  0.06666666666666667,\n",
              "  0.0,\n",
              "  0.0,\n",
              "  0.0,\n",
              "  0.0,\n",
              "  0.0,\n",
              "  0.0,\n",
              "  0.0],\n",
              " 'of': [0.0,\n",
              "  0.0,\n",
              "  0.2,\n",
              "  0.0,\n",
              "  0.0,\n",
              "  0.0,\n",
              "  0.0,\n",
              "  0.0,\n",
              "  0.058823529411764705,\n",
              "  0.0,\n",
              "  0.05263157894736842,\n",
              "  0.0,\n",
              "  0.0,\n",
              "  0.0,\n",
              "  0.0],\n",
              " 'men': [0.0,\n",
              "  0.0,\n",
              "  0.0,\n",
              "  0.0,\n",
              "  0.16666666666666666,\n",
              "  0.1,\n",
              "  0.1111111111111111,\n",
              "  0.0,\n",
              "  0.0,\n",
              "  0.0,\n",
              "  0.0,\n",
              "  0.0,\n",
              "  0.0,\n",
              "  0.0,\n",
              "  0.0],\n",
              " 'them': [0.0,\n",
              "  0.0,\n",
              "  0.0,\n",
              "  0.0,\n",
              "  0.0,\n",
              "  0.0,\n",
              "  0.0,\n",
              "  0.0,\n",
              "  0.058823529411764705,\n",
              "  0.0,\n",
              "  0.05263157894736842,\n",
              "  0.125,\n",
              "  0.0,\n",
              "  0.0,\n",
              "  0.0],\n",
              " 'he': [0.0,\n",
              "  0.09090909090909091,\n",
              "  0.0,\n",
              "  0.0,\n",
              "  0.0,\n",
              "  0.0,\n",
              "  0.1111111111111111,\n",
              "  0.0,\n",
              "  0.0,\n",
              "  0.0,\n",
              "  0.0,\n",
              "  0.0,\n",
              "  0.0,\n",
              "  0.0,\n",
              "  0.0],\n",
              " 'me': [0.0,\n",
              "  0.09090909090909091,\n",
              "  0.0,\n",
              "  0.0,\n",
              "  0.0,\n",
              "  0.0,\n",
              "  0.0,\n",
              "  0.0,\n",
              "  0.0,\n",
              "  0.0,\n",
              "  0.0,\n",
              "  0.0,\n",
              "  0.25,\n",
              "  0.0,\n",
              "  0.0],\n",
              " 'am': [0.0,\n",
              "  0.0,\n",
              "  0.2,\n",
              "  0.0,\n",
              "  0.0,\n",
              "  0.0,\n",
              "  0.0,\n",
              "  0.0,\n",
              "  0.0,\n",
              "  0.0,\n",
              "  0.0,\n",
              "  0.0,\n",
              "  0.0,\n",
              "  0.1111111111111111,\n",
              "  0.0],\n",
              " 'tired': [0.0,\n",
              "  0.0,\n",
              "  0.2,\n",
              "  0.0,\n",
              "  0.0,\n",
              "  0.0,\n",
              "  0.0,\n",
              "  0.0,\n",
              "  0.0,\n",
              "  0.0,\n",
              "  0.0,\n",
              "  0.0,\n",
              "  0.0,\n",
              "  0.1111111111111111,\n",
              "  0.0],\n",
              " 'chiefs': [0.0,\n",
              "  0.0,\n",
              "  0.0,\n",
              "  0.07142857142857142,\n",
              "  0.0,\n",
              "  0.0,\n",
              "  0.0,\n",
              "  0.0,\n",
              "  0.0,\n",
              "  0.0,\n",
              "  0.0,\n",
              "  0.0,\n",
              "  0.25,\n",
              "  0.0,\n",
              "  0.0],\n",
              " 'hool': [0.0,\n",
              "  0.0,\n",
              "  0.0,\n",
              "  0.14285714285714285,\n",
              "  0.0,\n",
              "  0.0,\n",
              "  0.0,\n",
              "  0.0,\n",
              "  0.0,\n",
              "  0.0,\n",
              "  0.0,\n",
              "  0.0,\n",
              "  0.0,\n",
              "  0.0,\n",
              "  0.0],\n",
              " 'young': [0.0,\n",
              "  0.0,\n",
              "  0.0,\n",
              "  0.0,\n",
              "  0.0,\n",
              "  0.1,\n",
              "  0.1111111111111111,\n",
              "  0.0,\n",
              "  0.0,\n",
              "  0.0,\n",
              "  0.0,\n",
              "  0.0,\n",
              "  0.0,\n",
              "  0.0,\n",
              "  0.0],\n",
              " 'who': [0.0,\n",
              "  0.0,\n",
              "  0.0,\n",
              "  0.0,\n",
              "  0.0,\n",
              "  0.1,\n",
              "  0.1111111111111111,\n",
              "  0.0,\n",
              "  0.0,\n",
              "  0.0,\n",
              "  0.0,\n",
              "  0.0,\n",
              "  0.0,\n",
              "  0.0,\n",
              "  0.0],\n",
              " 'blankets': [0.0,\n",
              "  0.0,\n",
              "  0.0,\n",
              "  0.0,\n",
              "  0.0,\n",
              "  0.0,\n",
              "  0.0,\n",
              "  0.06666666666666667,\n",
              "  0.058823529411764705,\n",
              "  0.0,\n",
              "  0.0,\n",
              "  0.0,\n",
              "  0.0,\n",
              "  0.0,\n",
              "  0.0],\n",
              " 'children': [0.0,\n",
              "  0.0,\n",
              "  0.0,\n",
              "  0.0,\n",
              "  0.0,\n",
              "  0.0,\n",
              "  0.0,\n",
              "  0.06666666666666667,\n",
              "  0.0,\n",
              "  0.0,\n",
              "  0.05263157894736842,\n",
              "  0.0,\n",
              "  0.0,\n",
              "  0.0,\n",
              "  0.0],\n",
              " 'freezing': [0.0,\n",
              "  0.0,\n",
              "  0.0,\n",
              "  0.0,\n",
              "  0.0,\n",
              "  0.0,\n",
              "  0.0,\n",
              "  0.06666666666666667,\n",
              "  0.0,\n",
              "  0.1,\n",
              "  0.0,\n",
              "  0.0,\n",
              "  0.0,\n",
              "  0.0,\n",
              "  0.0],\n",
              " 'death': [0.0,\n",
              "  0.0,\n",
              "  0.0,\n",
              "  0.0,\n",
              "  0.0,\n",
              "  0.0,\n",
              "  0.0,\n",
              "  0.06666666666666667,\n",
              "  0.0,\n",
              "  0.1,\n",
              "  0.0,\n",
              "  0.0,\n",
              "  0.0,\n",
              "  0.0,\n",
              "  0.0],\n",
              " 'where': [0.0,\n",
              "  0.0,\n",
              "  0.0,\n",
              "  0.0,\n",
              "  0.0,\n",
              "  0.0,\n",
              "  0.0,\n",
              "  0.0,\n",
              "  0.0,\n",
              "  0.1,\n",
              "  0.0,\n",
              "  0.0,\n",
              "  0.0,\n",
              "  0.0,\n",
              "  0.08333333333333333],\n",
              " 'find': [0.0,\n",
              "  0.0,\n",
              "  0.0,\n",
              "  0.0,\n",
              "  0.0,\n",
              "  0.0,\n",
              "  0.0,\n",
              "  0.0,\n",
              "  0.0,\n",
              "  0.0,\n",
              "  0.05263157894736842,\n",
              "  0.125,\n",
              "  0.0,\n",
              "  0.0,\n",
              "  0.0],\n",
              " 'tell': [0.14285714285714285,\n",
              "  0.0,\n",
              "  0.0,\n",
              "  0.0,\n",
              "  0.0,\n",
              "  0.0,\n",
              "  0.0,\n",
              "  0.0,\n",
              "  0.0,\n",
              "  0.0,\n",
              "  0.0,\n",
              "  0.0,\n",
              "  0.0,\n",
              "  0.0,\n",
              "  0.0],\n",
              " 'general': [0.14285714285714285,\n",
              "  0.0,\n",
              "  0.0,\n",
              "  0.0,\n",
              "  0.0,\n",
              "  0.0,\n",
              "  0.0,\n",
              "  0.0,\n",
              "  0.0,\n",
              "  0.0,\n",
              "  0.0,\n",
              "  0.0,\n",
              "  0.0,\n",
              "  0.0,\n",
              "  0.0],\n",
              " 'howard': [0.14285714285714285,\n",
              "  0.0,\n",
              "  0.0,\n",
              "  0.0,\n",
              "  0.0,\n",
              "  0.0,\n",
              "  0.0,\n",
              "  0.0,\n",
              "  0.0,\n",
              "  0.0,\n",
              "  0.0,\n",
              "  0.0,\n",
              "  0.0,\n",
              "  0.0,\n",
              "  0.0],\n",
              " 'know': [0.14285714285714285,\n",
              "  0.0,\n",
              "  0.0,\n",
              "  0.0,\n",
              "  0.0,\n",
              "  0.0,\n",
              "  0.0,\n",
              "  0.0,\n",
              "  0.0,\n",
              "  0.0,\n",
              "  0.0,\n",
              "  0.0,\n",
              "  0.0,\n",
              "  0.0,\n",
              "  0.0],\n",
              " 'his': [0.14285714285714285,\n",
              "  0.0,\n",
              "  0.0,\n",
              "  0.0,\n",
              "  0.0,\n",
              "  0.0,\n",
              "  0.0,\n",
              "  0.0,\n",
              "  0.0,\n",
              "  0.0,\n",
              "  0.0,\n",
              "  0.0,\n",
              "  0.0,\n",
              "  0.0,\n",
              "  0.0],\n",
              " 'what': [0.0,\n",
              "  0.09090909090909091,\n",
              "  0.0,\n",
              "  0.0,\n",
              "  0.0,\n",
              "  0.0,\n",
              "  0.0,\n",
              "  0.0,\n",
              "  0.0,\n",
              "  0.0,\n",
              "  0.0,\n",
              "  0.0,\n",
              "  0.0,\n",
              "  0.0,\n",
              "  0.0],\n",
              " 'told': [0.0,\n",
              "  0.09090909090909091,\n",
              "  0.0,\n",
              "  0.0,\n",
              "  0.0,\n",
              "  0.0,\n",
              "  0.0,\n",
              "  0.0,\n",
              "  0.0,\n",
              "  0.0,\n",
              "  0.0,\n",
              "  0.0,\n",
              "  0.0,\n",
              "  0.0,\n",
              "  0.0],\n",
              " 'before': [0.0,\n",
              "  0.09090909090909091,\n",
              "  0.0,\n",
              "  0.0,\n",
              "  0.0,\n",
              "  0.0,\n",
              "  0.0,\n",
              "  0.0,\n",
              "  0.0,\n",
              "  0.0,\n",
              "  0.0,\n",
              "  0.0,\n",
              "  0.0,\n",
              "  0.0,\n",
              "  0.0],\n",
              " 'in': [0.0,\n",
              "  0.09090909090909091,\n",
              "  0.0,\n",
              "  0.0,\n",
              "  0.0,\n",
              "  0.0,\n",
              "  0.0,\n",
              "  0.0,\n",
              "  0.0,\n",
              "  0.0,\n",
              "  0.0,\n",
              "  0.0,\n",
              "  0.0,\n",
              "  0.0,\n",
              "  0.0],\n",
              " 'fighting': [0.0,\n",
              "  0.0,\n",
              "  0.2,\n",
              "  0.0,\n",
              "  0.0,\n",
              "  0.0,\n",
              "  0.0,\n",
              "  0.0,\n",
              "  0.0,\n",
              "  0.0,\n",
              "  0.0,\n",
              "  0.0,\n",
              "  0.0,\n",
              "  0.0,\n",
              "  0.0],\n",
              " 'our': [0.0,\n",
              "  0.0,\n",
              "  0.0,\n",
              "  0.07142857142857142,\n",
              "  0.0,\n",
              "  0.0,\n",
              "  0.0,\n",
              "  0.0,\n",
              "  0.0,\n",
              "  0.0,\n",
              "  0.0,\n",
              "  0.0,\n",
              "  0.0,\n",
              "  0.0,\n",
              "  0.0],\n",
              " 'killed': [0.0,\n",
              "  0.0,\n",
              "  0.0,\n",
              "  0.07142857142857142,\n",
              "  0.0,\n",
              "  0.0,\n",
              "  0.0,\n",
              "  0.0,\n",
              "  0.0,\n",
              "  0.0,\n",
              "  0.0,\n",
              "  0.0,\n",
              "  0.0,\n",
              "  0.0,\n",
              "  0.0],\n",
              " 'looking': [0.0,\n",
              "  0.0,\n",
              "  0.0,\n",
              "  0.07142857142857142,\n",
              "  0.0,\n",
              "  0.0,\n",
              "  0.0,\n",
              "  0.0,\n",
              "  0.0,\n",
              "  0.0,\n",
              "  0.0,\n",
              "  0.0,\n",
              "  0.0,\n",
              "  0.0,\n",
              "  0.0],\n",
              " 'glass': [0.0,\n",
              "  0.0,\n",
              "  0.0,\n",
              "  0.07142857142857142,\n",
              "  0.0,\n",
              "  0.0,\n",
              "  0.0,\n",
              "  0.0,\n",
              "  0.0,\n",
              "  0.0,\n",
              "  0.0,\n",
              "  0.0,\n",
              "  0.0,\n",
              "  0.0,\n",
              "  0.0],\n",
              " 'ta': [0.0,\n",
              "  0.0,\n",
              "  0.0,\n",
              "  0.07142857142857142,\n",
              "  0.0,\n",
              "  0.0,\n",
              "  0.0,\n",
              "  0.0,\n",
              "  0.0,\n",
              "  0.0,\n",
              "  0.0,\n",
              "  0.0,\n",
              "  0.0,\n",
              "  0.0,\n",
              "  0.0],\n",
              " 'shute': [0.0,\n",
              "  0.0,\n",
              "  0.0,\n",
              "  0.07142857142857142,\n",
              "  0.0,\n",
              "  0.0,\n",
              "  0.0,\n",
              "  0.0,\n",
              "  0.0,\n",
              "  0.0,\n",
              "  0.0,\n",
              "  0.0,\n",
              "  0.0,\n",
              "  0.0,\n",
              "  0.0],\n",
              " 'old': [0.0,\n",
              "  0.0,\n",
              "  0.0,\n",
              "  0.0,\n",
              "  0.16666666666666666,\n",
              "  0.0,\n",
              "  0.0,\n",
              "  0.0,\n",
              "  0.0,\n",
              "  0.0,\n",
              "  0.0,\n",
              "  0.0,\n",
              "  0.0,\n",
              "  0.0,\n",
              "  0.0],\n",
              " 'all': [0.0,\n",
              "  0.0,\n",
              "  0.0,\n",
              "  0.0,\n",
              "  0.16666666666666666,\n",
              "  0.0,\n",
              "  0.0,\n",
              "  0.0,\n",
              "  0.0,\n",
              "  0.0,\n",
              "  0.0,\n",
              "  0.0,\n",
              "  0.0,\n",
              "  0.0,\n",
              "  0.0],\n",
              " 'say': [0.0,\n",
              "  0.0,\n",
              "  0.0,\n",
              "  0.0,\n",
              "  0.0,\n",
              "  0.1,\n",
              "  0.0,\n",
              "  0.0,\n",
              "  0.0,\n",
              "  0.0,\n",
              "  0.0,\n",
              "  0.0,\n",
              "  0.0,\n",
              "  0.0,\n",
              "  0.0],\n",
              " 'yes': [0.0,\n",
              "  0.0,\n",
              "  0.0,\n",
              "  0.0,\n",
              "  0.0,\n",
              "  0.1,\n",
              "  0.0,\n",
              "  0.0,\n",
              "  0.0,\n",
              "  0.0,\n",
              "  0.0,\n",
              "  0.0,\n",
              "  0.0,\n",
              "  0.0,\n",
              "  0.0],\n",
              " 'or': [0.0,\n",
              "  0.0,\n",
              "  0.0,\n",
              "  0.0,\n",
              "  0.0,\n",
              "  0.1,\n",
              "  0.0,\n",
              "  0.0,\n",
              "  0.0,\n",
              "  0.0,\n",
              "  0.0,\n",
              "  0.0,\n",
              "  0.0,\n",
              "  0.0,\n",
              "  0.0],\n",
              " 'led': [0.0,\n",
              "  0.0,\n",
              "  0.0,\n",
              "  0.0,\n",
              "  0.0,\n",
              "  0.0,\n",
              "  0.1111111111111111,\n",
              "  0.0,\n",
              "  0.0,\n",
              "  0.0,\n",
              "  0.0,\n",
              "  0.0,\n",
              "  0.0,\n",
              "  0.0,\n",
              "  0.0],\n",
              " 'on': [0.0,\n",
              "  0.0,\n",
              "  0.0,\n",
              "  0.0,\n",
              "  0.0,\n",
              "  0.0,\n",
              "  0.1111111111111111,\n",
              "  0.0,\n",
              "  0.0,\n",
              "  0.0,\n",
              "  0.0,\n",
              "  0.0,\n",
              "  0.0,\n",
              "  0.0,\n",
              "  0.0],\n",
              " 'cold': [0.0,\n",
              "  0.0,\n",
              "  0.0,\n",
              "  0.0,\n",
              "  0.0,\n",
              "  0.0,\n",
              "  0.0,\n",
              "  0.06666666666666667,\n",
              "  0.0,\n",
              "  0.0,\n",
              "  0.0,\n",
              "  0.0,\n",
              "  0.0,\n",
              "  0.0,\n",
              "  0.0],\n",
              " 'we': [0.0,\n",
              "  0.0,\n",
              "  0.0,\n",
              "  0.0,\n",
              "  0.0,\n",
              "  0.0,\n",
              "  0.0,\n",
              "  0.06666666666666667,\n",
              "  0.0,\n",
              "  0.0,\n",
              "  0.0,\n",
              "  0.0,\n",
              "  0.0,\n",
              "  0.0,\n",
              "  0.0],\n",
              " 'little': [0.0,\n",
              "  0.0,\n",
              "  0.0,\n",
              "  0.0,\n",
              "  0.0,\n",
              "  0.0,\n",
              "  0.0,\n",
              "  0.06666666666666667,\n",
              "  0.0,\n",
              "  0.0,\n",
              "  0.0,\n",
              "  0.0,\n",
              "  0.0,\n",
              "  0.0,\n",
              "  0.0],\n",
              " 'people': [0.0,\n",
              "  0.0,\n",
              "  0.0,\n",
              "  0.0,\n",
              "  0.0,\n",
              "  0.0,\n",
              "  0.0,\n",
              "  0.0,\n",
              "  0.058823529411764705,\n",
              "  0.0,\n",
              "  0.0,\n",
              "  0.0,\n",
              "  0.0,\n",
              "  0.0,\n",
              "  0.0],\n",
              " 'some': [0.0,\n",
              "  0.0,\n",
              "  0.0,\n",
              "  0.0,\n",
              "  0.0,\n",
              "  0.0,\n",
              "  0.0,\n",
              "  0.0,\n",
              "  0.058823529411764705,\n",
              "  0.0,\n",
              "  0.0,\n",
              "  0.0,\n",
              "  0.0,\n",
              "  0.0,\n",
              "  0.0],\n",
              " 'run': [0.0,\n",
              "  0.0,\n",
              "  0.0,\n",
              "  0.0,\n",
              "  0.0,\n",
              "  0.0,\n",
              "  0.0,\n",
              "  0.0,\n",
              "  0.058823529411764705,\n",
              "  0.0,\n",
              "  0.0,\n",
              "  0.0,\n",
              "  0.0,\n",
              "  0.0,\n",
              "  0.0],\n",
              " 'away': [0.0,\n",
              "  0.0,\n",
              "  0.0,\n",
              "  0.0,\n",
              "  0.0,\n",
              "  0.0,\n",
              "  0.0,\n",
              "  0.0,\n",
              "  0.058823529411764705,\n",
              "  0.0,\n",
              "  0.0,\n",
              "  0.0,\n",
              "  0.0,\n",
              "  0.0,\n",
              "  0.0],\n",
              " 'hills': [0.0,\n",
              "  0.0,\n",
              "  0.0,\n",
              "  0.0,\n",
              "  0.0,\n",
              "  0.0,\n",
              "  0.0,\n",
              "  0.0,\n",
              "  0.058823529411764705,\n",
              "  0.0,\n",
              "  0.0,\n",
              "  0.0,\n",
              "  0.0,\n",
              "  0.0,\n",
              "  0.0],\n",
              " 'food': [0.0,\n",
              "  0.0,\n",
              "  0.0,\n",
              "  0.0,\n",
              "  0.0,\n",
              "  0.0,\n",
              "  0.0,\n",
              "  0.0,\n",
              "  0.058823529411764705,\n",
              "  0.0,\n",
              "  0.0,\n",
              "  0.0,\n",
              "  0.0,\n",
              "  0.0,\n",
              "  0.0],\n",
              " 'one': [0.0,\n",
              "  0.0,\n",
              "  0.0,\n",
              "  0.0,\n",
              "  0.0,\n",
              "  0.0,\n",
              "  0.0,\n",
              "  0.0,\n",
              "  0.0,\n",
              "  0.1,\n",
              "  0.0,\n",
              "  0.0,\n",
              "  0.0,\n",
              "  0.0,\n",
              "  0.0],\n",
              " 'knows': [0.0,\n",
              "  0.0,\n",
              "  0.0,\n",
              "  0.0,\n",
              "  0.0,\n",
              "  0.0,\n",
              "  0.0,\n",
              "  0.0,\n",
              "  0.0,\n",
              "  0.1,\n",
              "  0.0,\n",
              "  0.0,\n",
              "  0.0,\n",
              "  0.0,\n",
              "  0.0],\n",
              " 'they': [0.0,\n",
              "  0.0,\n",
              "  0.0,\n",
              "  0.0,\n",
              "  0.0,\n",
              "  0.0,\n",
              "  0.0,\n",
              "  0.0,\n",
              "  0.0,\n",
              "  0.1,\n",
              "  0.0,\n",
              "  0.0,\n",
              "  0.0,\n",
              "  0.0,\n",
              "  0.0],\n",
              " 'perhaps': [0.0,\n",
              "  0.0,\n",
              "  0.0,\n",
              "  0.0,\n",
              "  0.0,\n",
              "  0.0,\n",
              "  0.0,\n",
              "  0.0,\n",
              "  0.0,\n",
              "  0.1,\n",
              "  0.0,\n",
              "  0.0,\n",
              "  0.0,\n",
              "  0.0,\n",
              "  0.0],\n",
              " 'want': [0.0,\n",
              "  0.0,\n",
              "  0.0,\n",
              "  0.0,\n",
              "  0.0,\n",
              "  0.0,\n",
              "  0.0,\n",
              "  0.0,\n",
              "  0.0,\n",
              "  0.0,\n",
              "  0.05263157894736842,\n",
              "  0.0,\n",
              "  0.0,\n",
              "  0.0,\n",
              "  0.0],\n",
              " 'time': [0.0,\n",
              "  0.0,\n",
              "  0.0,\n",
              "  0.0,\n",
              "  0.0,\n",
              "  0.0,\n",
              "  0.0,\n",
              "  0.0,\n",
              "  0.0,\n",
              "  0.0,\n",
              "  0.05263157894736842,\n",
              "  0.0,\n",
              "  0.0,\n",
              "  0.0,\n",
              "  0.0],\n",
              " 'look': [0.0,\n",
              "  0.0,\n",
              "  0.0,\n",
              "  0.0,\n",
              "  0.0,\n",
              "  0.0,\n",
              "  0.0,\n",
              "  0.0,\n",
              "  0.0,\n",
              "  0.0,\n",
              "  0.05263157894736842,\n",
              "  0.0,\n",
              "  0.0,\n",
              "  0.0,\n",
              "  0.0],\n",
              " 'for': [0.0,\n",
              "  0.0,\n",
              "  0.0,\n",
              "  0.0,\n",
              "  0.0,\n",
              "  0.0,\n",
              "  0.0,\n",
              "  0.0,\n",
              "  0.0,\n",
              "  0.0,\n",
              "  0.05263157894736842,\n",
              "  0.0,\n",
              "  0.0,\n",
              "  0.0,\n",
              "  0.0],\n",
              " 'see': [0.0,\n",
              "  0.0,\n",
              "  0.0,\n",
              "  0.0,\n",
              "  0.0,\n",
              "  0.0,\n",
              "  0.0,\n",
              "  0.0,\n",
              "  0.0,\n",
              "  0.0,\n",
              "  0.05263157894736842,\n",
              "  0.0,\n",
              "  0.0,\n",
              "  0.0,\n",
              "  0.0],\n",
              " 'how': [0.0,\n",
              "  0.0,\n",
              "  0.0,\n",
              "  0.0,\n",
              "  0.0,\n",
              "  0.0,\n",
              "  0.0,\n",
              "  0.0,\n",
              "  0.0,\n",
              "  0.0,\n",
              "  0.05263157894736842,\n",
              "  0.0,\n",
              "  0.0,\n",
              "  0.0,\n",
              "  0.0],\n",
              " 'many': [0.0,\n",
              "  0.0,\n",
              "  0.0,\n",
              "  0.0,\n",
              "  0.0,\n",
              "  0.0,\n",
              "  0.0,\n",
              "  0.0,\n",
              "  0.0,\n",
              "  0.0,\n",
              "  0.05263157894736842,\n",
              "  0.0,\n",
              "  0.0,\n",
              "  0.0,\n",
              "  0.0],\n",
              " 'can': [0.0,\n",
              "  0.0,\n",
              "  0.0,\n",
              "  0.0,\n",
              "  0.0,\n",
              "  0.0,\n",
              "  0.0,\n",
              "  0.0,\n",
              "  0.0,\n",
              "  0.0,\n",
              "  0.05263157894736842,\n",
              "  0.0,\n",
              "  0.0,\n",
              "  0.0,\n",
              "  0.0],\n",
              " 'maybe': [0.0,\n",
              "  0.0,\n",
              "  0.0,\n",
              "  0.0,\n",
              "  0.0,\n",
              "  0.0,\n",
              "  0.0,\n",
              "  0.0,\n",
              "  0.0,\n",
              "  0.0,\n",
              "  0.0,\n",
              "  0.125,\n",
              "  0.0,\n",
              "  0.0,\n",
              "  0.0],\n",
              " 'shall': [0.0,\n",
              "  0.0,\n",
              "  0.0,\n",
              "  0.0,\n",
              "  0.0,\n",
              "  0.0,\n",
              "  0.0,\n",
              "  0.0,\n",
              "  0.0,\n",
              "  0.0,\n",
              "  0.0,\n",
              "  0.125,\n",
              "  0.0,\n",
              "  0.0,\n",
              "  0.0],\n",
              " 'among': [0.0,\n",
              "  0.0,\n",
              "  0.0,\n",
              "  0.0,\n",
              "  0.0,\n",
              "  0.0,\n",
              "  0.0,\n",
              "  0.0,\n",
              "  0.0,\n",
              "  0.0,\n",
              "  0.0,\n",
              "  0.125,\n",
              "  0.0,\n",
              "  0.0,\n",
              "  0.0],\n",
              " 'hear': [0.0,\n",
              "  0.0,\n",
              "  0.0,\n",
              "  0.0,\n",
              "  0.0,\n",
              "  0.0,\n",
              "  0.0,\n",
              "  0.0,\n",
              "  0.0,\n",
              "  0.0,\n",
              "  0.0,\n",
              "  0.0,\n",
              "  0.25,\n",
              "  0.0,\n",
              "  0.0],\n",
              " 'sick': [0.0,\n",
              "  0.0,\n",
              "  0.0,\n",
              "  0.0,\n",
              "  0.0,\n",
              "  0.0,\n",
              "  0.0,\n",
              "  0.0,\n",
              "  0.0,\n",
              "  0.0,\n",
              "  0.0,\n",
              "  0.0,\n",
              "  0.0,\n",
              "  0.1111111111111111,\n",
              "  0.0],\n",
              " 'sad': [0.0,\n",
              "  0.0,\n",
              "  0.0,\n",
              "  0.0,\n",
              "  0.0,\n",
              "  0.0,\n",
              "  0.0,\n",
              "  0.0,\n",
              "  0.0,\n",
              "  0.0,\n",
              "  0.0,\n",
              "  0.0,\n",
              "  0.0,\n",
              "  0.1111111111111111,\n",
              "  0.0],\n",
              " 'from': [0.0,\n",
              "  0.0,\n",
              "  0.0,\n",
              "  0.0,\n",
              "  0.0,\n",
              "  0.0,\n",
              "  0.0,\n",
              "  0.0,\n",
              "  0.0,\n",
              "  0.0,\n",
              "  0.0,\n",
              "  0.0,\n",
              "  0.0,\n",
              "  0.0,\n",
              "  0.08333333333333333],\n",
              " 'sun': [0.0,\n",
              "  0.0,\n",
              "  0.0,\n",
              "  0.0,\n",
              "  0.0,\n",
              "  0.0,\n",
              "  0.0,\n",
              "  0.0,\n",
              "  0.0,\n",
              "  0.0,\n",
              "  0.0,\n",
              "  0.0,\n",
              "  0.0,\n",
              "  0.0,\n",
              "  0.08333333333333333],\n",
              " 'now': [0.0,\n",
              "  0.0,\n",
              "  0.0,\n",
              "  0.0,\n",
              "  0.0,\n",
              "  0.0,\n",
              "  0.0,\n",
              "  0.0,\n",
              "  0.0,\n",
              "  0.0,\n",
              "  0.0,\n",
              "  0.0,\n",
              "  0.0,\n",
              "  0.0,\n",
              "  0.08333333333333333],\n",
              " 'stands': [0.0,\n",
              "  0.0,\n",
              "  0.0,\n",
              "  0.0,\n",
              "  0.0,\n",
              "  0.0,\n",
              "  0.0,\n",
              "  0.0,\n",
              "  0.0,\n",
              "  0.0,\n",
              "  0.0,\n",
              "  0.0,\n",
              "  0.0,\n",
              "  0.0,\n",
              "  0.08333333333333333],\n",
              " 'will': [0.0,\n",
              "  0.0,\n",
              "  0.0,\n",
              "  0.0,\n",
              "  0.0,\n",
              "  0.0,\n",
              "  0.0,\n",
              "  0.0,\n",
              "  0.0,\n",
              "  0.0,\n",
              "  0.0,\n",
              "  0.0,\n",
              "  0.0,\n",
              "  0.0,\n",
              "  0.08333333333333333],\n",
              " 'fight': [0.0,\n",
              "  0.0,\n",
              "  0.0,\n",
              "  0.0,\n",
              "  0.0,\n",
              "  0.0,\n",
              "  0.0,\n",
              "  0.0,\n",
              "  0.0,\n",
              "  0.0,\n",
              "  0.0,\n",
              "  0.0,\n",
              "  0.0,\n",
              "  0.0,\n",
              "  0.08333333333333333],\n",
              " 'more': [0.0,\n",
              "  0.0,\n",
              "  0.0,\n",
              "  0.0,\n",
              "  0.0,\n",
              "  0.0,\n",
              "  0.0,\n",
              "  0.0,\n",
              "  0.0,\n",
              "  0.0,\n",
              "  0.0,\n",
              "  0.0,\n",
              "  0.0,\n",
              "  0.0,\n",
              "  0.08333333333333333],\n",
              " 'forever': [0.0,\n",
              "  0.0,\n",
              "  0.0,\n",
              "  0.0,\n",
              "  0.0,\n",
              "  0.0,\n",
              "  0.0,\n",
              "  0.0,\n",
              "  0.0,\n",
              "  0.0,\n",
              "  0.0,\n",
              "  0.0,\n",
              "  0.0,\n",
              "  0.0,\n",
              "  0.08333333333333333]}"
            ]
          },
          "metadata": {},
          "execution_count": 94
        }
      ]
    },
    {
      "cell_type": "code",
      "source": [
        "# TF-IDF calculation\n",
        "tfidf_matrix = []\n",
        "\n",
        "for word in tf_matrix.keys():\n",
        "  tfidf = []\n",
        "\n",
        "  for val in tf_matrix[word]:\n",
        "    score = val * word_idfs[word]\n",
        "    tfidf.append(score)\n",
        "\n",
        "  tfidf_matrix.append(tfidf)\n"
      ],
      "metadata": {
        "id": "SGsCacYfTXtm"
      },
      "execution_count": 95,
      "outputs": []
    },
    {
      "cell_type": "code",
      "source": [
        "X = np.array(tfidf_matrix)"
      ],
      "metadata": {
        "id": "QoTpwsP6UIGX"
      },
      "execution_count": 96,
      "outputs": []
    },
    {
      "cell_type": "code",
      "source": [
        "X"
      ],
      "metadata": {
        "colab": {
          "base_uri": "https://localhost:8080/"
        },
        "id": "lUigzi6kUO-1",
        "outputId": "a72b4650-33a2-44d2-db66-8f770d27dda8"
      },
      "execution_count": 97,
      "outputs": [
        {
          "output_type": "execute_result",
          "data": {
            "text/plain": [
              "array([[0.16359033, 0.10410294, 0.22902646, ..., 0.        , 0.12723692,\n",
              "        0.09542769],\n",
              "       [0.        , 0.        , 0.        , ..., 0.        , 0.        ,\n",
              "        0.09542769],\n",
              "       [0.        , 0.        , 0.        , ..., 0.        , 0.15403271,\n",
              "        0.        ],\n",
              "       ...,\n",
              "       [0.        , 0.        , 0.        , ..., 0.        , 0.        ,\n",
              "        0.23104906],\n",
              "       [0.        , 0.        , 0.        , ..., 0.        , 0.        ,\n",
              "        0.23104906],\n",
              "       [0.        , 0.        , 0.        , ..., 0.        , 0.        ,\n",
              "        0.23104906]])"
            ]
          },
          "metadata": {},
          "execution_count": 97
        }
      ]
    },
    {
      "cell_type": "code",
      "source": [
        "import numpy as np\n",
        "import pandas as pd\n",
        "import matplotlib.pyplot as plt\n",
        "import seaborn as sns\n",
        "from textblob import TextBlob\n",
        "from wordcloud import WordCloud"
      ],
      "metadata": {
        "id": "457mtZ39UQmn"
      },
      "execution_count": 98,
      "outputs": []
    },
    {
      "cell_type": "code",
      "source": [
        "df = pd.read_csv('/content/GenerativeAI tweets (1) (1).csv', parse_dates = ['Datetime'])\n",
        "df.head()"
      ],
      "metadata": {
        "colab": {
          "base_uri": "https://localhost:8080/",
          "height": 206
        },
        "id": "ay9MOIF5VoZk",
        "outputId": "838a94f9-69b7-4fe9-ef08-dcdc46e28ca0"
      },
      "execution_count": 99,
      "outputs": [
        {
          "output_type": "execute_result",
          "data": {
            "text/plain": [
              "   Unnamed: 0                  Datetime             Tweet Id  \\\n",
              "0           0 2023-04-19 21:27:19+00:00  1648800467206672384   \n",
              "1           1 2023-04-19 21:27:09+00:00  1648800425540476929   \n",
              "2           2 2023-04-19 21:26:57+00:00  1648800376479715328   \n",
              "3           3 2023-04-19 21:26:49+00:00  1648800341193027584   \n",
              "4           4 2023-04-19 21:25:00+00:00  1648799883934203905   \n",
              "\n",
              "                                                Text       Username  \n",
              "0  From Studio Gangster to Synthetic Gangster 🎤.....     resembleai  \n",
              "1  Took me some time to find this. I build this #...  devaanparbhoo  \n",
              "2  Mind blowing next wave #generativeai  platform...        timreha  \n",
              "3  Open Source Generative AI Image Specialist Sta...     VirtReview  \n",
              "4  Are you an #HR leader considering which future...      FrozeElle  "
            ],
            "text/html": [
              "\n",
              "  <div id=\"df-e9f7e7c9-32a4-4d1d-99b9-84da77997d08\" class=\"colab-df-container\">\n",
              "    <div>\n",
              "<style scoped>\n",
              "    .dataframe tbody tr th:only-of-type {\n",
              "        vertical-align: middle;\n",
              "    }\n",
              "\n",
              "    .dataframe tbody tr th {\n",
              "        vertical-align: top;\n",
              "    }\n",
              "\n",
              "    .dataframe thead th {\n",
              "        text-align: right;\n",
              "    }\n",
              "</style>\n",
              "<table border=\"1\" class=\"dataframe\">\n",
              "  <thead>\n",
              "    <tr style=\"text-align: right;\">\n",
              "      <th></th>\n",
              "      <th>Unnamed: 0</th>\n",
              "      <th>Datetime</th>\n",
              "      <th>Tweet Id</th>\n",
              "      <th>Text</th>\n",
              "      <th>Username</th>\n",
              "    </tr>\n",
              "  </thead>\n",
              "  <tbody>\n",
              "    <tr>\n",
              "      <th>0</th>\n",
              "      <td>0</td>\n",
              "      <td>2023-04-19 21:27:19+00:00</td>\n",
              "      <td>1648800467206672384</td>\n",
              "      <td>From Studio Gangster to Synthetic Gangster 🎤.....</td>\n",
              "      <td>resembleai</td>\n",
              "    </tr>\n",
              "    <tr>\n",
              "      <th>1</th>\n",
              "      <td>1</td>\n",
              "      <td>2023-04-19 21:27:09+00:00</td>\n",
              "      <td>1648800425540476929</td>\n",
              "      <td>Took me some time to find this. I build this #...</td>\n",
              "      <td>devaanparbhoo</td>\n",
              "    </tr>\n",
              "    <tr>\n",
              "      <th>2</th>\n",
              "      <td>2</td>\n",
              "      <td>2023-04-19 21:26:57+00:00</td>\n",
              "      <td>1648800376479715328</td>\n",
              "      <td>Mind blowing next wave #generativeai  platform...</td>\n",
              "      <td>timreha</td>\n",
              "    </tr>\n",
              "    <tr>\n",
              "      <th>3</th>\n",
              "      <td>3</td>\n",
              "      <td>2023-04-19 21:26:49+00:00</td>\n",
              "      <td>1648800341193027584</td>\n",
              "      <td>Open Source Generative AI Image Specialist Sta...</td>\n",
              "      <td>VirtReview</td>\n",
              "    </tr>\n",
              "    <tr>\n",
              "      <th>4</th>\n",
              "      <td>4</td>\n",
              "      <td>2023-04-19 21:25:00+00:00</td>\n",
              "      <td>1648799883934203905</td>\n",
              "      <td>Are you an #HR leader considering which future...</td>\n",
              "      <td>FrozeElle</td>\n",
              "    </tr>\n",
              "  </tbody>\n",
              "</table>\n",
              "</div>\n",
              "    <div class=\"colab-df-buttons\">\n",
              "\n",
              "  <div class=\"colab-df-container\">\n",
              "    <button class=\"colab-df-convert\" onclick=\"convertToInteractive('df-e9f7e7c9-32a4-4d1d-99b9-84da77997d08')\"\n",
              "            title=\"Convert this dataframe to an interactive table.\"\n",
              "            style=\"display:none;\">\n",
              "\n",
              "  <svg xmlns=\"http://www.w3.org/2000/svg\" height=\"24px\" viewBox=\"0 -960 960 960\">\n",
              "    <path d=\"M120-120v-720h720v720H120Zm60-500h600v-160H180v160Zm220 220h160v-160H400v160Zm0 220h160v-160H400v160ZM180-400h160v-160H180v160Zm440 0h160v-160H620v160ZM180-180h160v-160H180v160Zm440 0h160v-160H620v160Z\"/>\n",
              "  </svg>\n",
              "    </button>\n",
              "\n",
              "  <style>\n",
              "    .colab-df-container {\n",
              "      display:flex;\n",
              "      gap: 12px;\n",
              "    }\n",
              "\n",
              "    .colab-df-convert {\n",
              "      background-color: #E8F0FE;\n",
              "      border: none;\n",
              "      border-radius: 50%;\n",
              "      cursor: pointer;\n",
              "      display: none;\n",
              "      fill: #1967D2;\n",
              "      height: 32px;\n",
              "      padding: 0 0 0 0;\n",
              "      width: 32px;\n",
              "    }\n",
              "\n",
              "    .colab-df-convert:hover {\n",
              "      background-color: #E2EBFA;\n",
              "      box-shadow: 0px 1px 2px rgba(60, 64, 67, 0.3), 0px 1px 3px 1px rgba(60, 64, 67, 0.15);\n",
              "      fill: #174EA6;\n",
              "    }\n",
              "\n",
              "    .colab-df-buttons div {\n",
              "      margin-bottom: 4px;\n",
              "    }\n",
              "\n",
              "    [theme=dark] .colab-df-convert {\n",
              "      background-color: #3B4455;\n",
              "      fill: #D2E3FC;\n",
              "    }\n",
              "\n",
              "    [theme=dark] .colab-df-convert:hover {\n",
              "      background-color: #434B5C;\n",
              "      box-shadow: 0px 1px 3px 1px rgba(0, 0, 0, 0.15);\n",
              "      filter: drop-shadow(0px 1px 2px rgba(0, 0, 0, 0.3));\n",
              "      fill: #FFFFFF;\n",
              "    }\n",
              "  </style>\n",
              "\n",
              "    <script>\n",
              "      const buttonEl =\n",
              "        document.querySelector('#df-e9f7e7c9-32a4-4d1d-99b9-84da77997d08 button.colab-df-convert');\n",
              "      buttonEl.style.display =\n",
              "        google.colab.kernel.accessAllowed ? 'block' : 'none';\n",
              "\n",
              "      async function convertToInteractive(key) {\n",
              "        const element = document.querySelector('#df-e9f7e7c9-32a4-4d1d-99b9-84da77997d08');\n",
              "        const dataTable =\n",
              "          await google.colab.kernel.invokeFunction('convertToInteractive',\n",
              "                                                    [key], {});\n",
              "        if (!dataTable) return;\n",
              "\n",
              "        const docLinkHtml = 'Like what you see? Visit the ' +\n",
              "          '<a target=\"_blank\" href=https://colab.research.google.com/notebooks/data_table.ipynb>data table notebook</a>'\n",
              "          + ' to learn more about interactive tables.';\n",
              "        element.innerHTML = '';\n",
              "        dataTable['output_type'] = 'display_data';\n",
              "        await google.colab.output.renderOutput(dataTable, element);\n",
              "        const docLink = document.createElement('div');\n",
              "        docLink.innerHTML = docLinkHtml;\n",
              "        element.appendChild(docLink);\n",
              "      }\n",
              "    </script>\n",
              "  </div>\n",
              "\n",
              "\n",
              "<div id=\"df-71409a7d-6f84-4303-bd8c-c0f48531e811\">\n",
              "  <button class=\"colab-df-quickchart\" onclick=\"quickchart('df-71409a7d-6f84-4303-bd8c-c0f48531e811')\"\n",
              "            title=\"Suggest charts.\"\n",
              "            style=\"display:none;\">\n",
              "\n",
              "<svg xmlns=\"http://www.w3.org/2000/svg\" height=\"24px\"viewBox=\"0 0 24 24\"\n",
              "     width=\"24px\">\n",
              "    <g>\n",
              "        <path d=\"M19 3H5c-1.1 0-2 .9-2 2v14c0 1.1.9 2 2 2h14c1.1 0 2-.9 2-2V5c0-1.1-.9-2-2-2zM9 17H7v-7h2v7zm4 0h-2V7h2v10zm4 0h-2v-4h2v4z\"/>\n",
              "    </g>\n",
              "</svg>\n",
              "  </button>\n",
              "\n",
              "<style>\n",
              "  .colab-df-quickchart {\n",
              "      --bg-color: #E8F0FE;\n",
              "      --fill-color: #1967D2;\n",
              "      --hover-bg-color: #E2EBFA;\n",
              "      --hover-fill-color: #174EA6;\n",
              "      --disabled-fill-color: #AAA;\n",
              "      --disabled-bg-color: #DDD;\n",
              "  }\n",
              "\n",
              "  [theme=dark] .colab-df-quickchart {\n",
              "      --bg-color: #3B4455;\n",
              "      --fill-color: #D2E3FC;\n",
              "      --hover-bg-color: #434B5C;\n",
              "      --hover-fill-color: #FFFFFF;\n",
              "      --disabled-bg-color: #3B4455;\n",
              "      --disabled-fill-color: #666;\n",
              "  }\n",
              "\n",
              "  .colab-df-quickchart {\n",
              "    background-color: var(--bg-color);\n",
              "    border: none;\n",
              "    border-radius: 50%;\n",
              "    cursor: pointer;\n",
              "    display: none;\n",
              "    fill: var(--fill-color);\n",
              "    height: 32px;\n",
              "    padding: 0;\n",
              "    width: 32px;\n",
              "  }\n",
              "\n",
              "  .colab-df-quickchart:hover {\n",
              "    background-color: var(--hover-bg-color);\n",
              "    box-shadow: 0 1px 2px rgba(60, 64, 67, 0.3), 0 1px 3px 1px rgba(60, 64, 67, 0.15);\n",
              "    fill: var(--button-hover-fill-color);\n",
              "  }\n",
              "\n",
              "  .colab-df-quickchart-complete:disabled,\n",
              "  .colab-df-quickchart-complete:disabled:hover {\n",
              "    background-color: var(--disabled-bg-color);\n",
              "    fill: var(--disabled-fill-color);\n",
              "    box-shadow: none;\n",
              "  }\n",
              "\n",
              "  .colab-df-spinner {\n",
              "    border: 2px solid var(--fill-color);\n",
              "    border-color: transparent;\n",
              "    border-bottom-color: var(--fill-color);\n",
              "    animation:\n",
              "      spin 1s steps(1) infinite;\n",
              "  }\n",
              "\n",
              "  @keyframes spin {\n",
              "    0% {\n",
              "      border-color: transparent;\n",
              "      border-bottom-color: var(--fill-color);\n",
              "      border-left-color: var(--fill-color);\n",
              "    }\n",
              "    20% {\n",
              "      border-color: transparent;\n",
              "      border-left-color: var(--fill-color);\n",
              "      border-top-color: var(--fill-color);\n",
              "    }\n",
              "    30% {\n",
              "      border-color: transparent;\n",
              "      border-left-color: var(--fill-color);\n",
              "      border-top-color: var(--fill-color);\n",
              "      border-right-color: var(--fill-color);\n",
              "    }\n",
              "    40% {\n",
              "      border-color: transparent;\n",
              "      border-right-color: var(--fill-color);\n",
              "      border-top-color: var(--fill-color);\n",
              "    }\n",
              "    60% {\n",
              "      border-color: transparent;\n",
              "      border-right-color: var(--fill-color);\n",
              "    }\n",
              "    80% {\n",
              "      border-color: transparent;\n",
              "      border-right-color: var(--fill-color);\n",
              "      border-bottom-color: var(--fill-color);\n",
              "    }\n",
              "    90% {\n",
              "      border-color: transparent;\n",
              "      border-bottom-color: var(--fill-color);\n",
              "    }\n",
              "  }\n",
              "</style>\n",
              "\n",
              "  <script>\n",
              "    async function quickchart(key) {\n",
              "      const quickchartButtonEl =\n",
              "        document.querySelector('#' + key + ' button');\n",
              "      quickchartButtonEl.disabled = true;  // To prevent multiple clicks.\n",
              "      quickchartButtonEl.classList.add('colab-df-spinner');\n",
              "      try {\n",
              "        const charts = await google.colab.kernel.invokeFunction(\n",
              "            'suggestCharts', [key], {});\n",
              "      } catch (error) {\n",
              "        console.error('Error during call to suggestCharts:', error);\n",
              "      }\n",
              "      quickchartButtonEl.classList.remove('colab-df-spinner');\n",
              "      quickchartButtonEl.classList.add('colab-df-quickchart-complete');\n",
              "    }\n",
              "    (() => {\n",
              "      let quickchartButtonEl =\n",
              "        document.querySelector('#df-71409a7d-6f84-4303-bd8c-c0f48531e811 button');\n",
              "      quickchartButtonEl.style.display =\n",
              "        google.colab.kernel.accessAllowed ? 'block' : 'none';\n",
              "    })();\n",
              "  </script>\n",
              "</div>\n",
              "    </div>\n",
              "  </div>\n"
            ]
          },
          "metadata": {},
          "execution_count": 99
        }
      ]
    },
    {
      "cell_type": "code",
      "source": [
        "df.info()"
      ],
      "metadata": {
        "id": "ZHQffNQUV4Si",
        "colab": {
          "base_uri": "https://localhost:8080/"
        },
        "outputId": "b52951f4-f920-495a-e780-93010a12ec27"
      },
      "execution_count": 100,
      "outputs": [
        {
          "output_type": "stream",
          "name": "stdout",
          "text": [
            "<class 'pandas.core.frame.DataFrame'>\n",
            "RangeIndex: 56221 entries, 0 to 56220\n",
            "Data columns (total 5 columns):\n",
            " #   Column      Non-Null Count  Dtype              \n",
            "---  ------      --------------  -----              \n",
            " 0   Unnamed: 0  56221 non-null  int64              \n",
            " 1   Datetime    56221 non-null  datetime64[ns, UTC]\n",
            " 2   Tweet Id    56221 non-null  int64              \n",
            " 3   Text        56221 non-null  object             \n",
            " 4   Username    56221 non-null  object             \n",
            "dtypes: datetime64[ns, UTC](1), int64(2), object(2)\n",
            "memory usage: 2.1+ MB\n"
          ]
        }
      ]
    },
    {
      "cell_type": "markdown",
      "source": [
        "We will plot graph of the frequency of teh term \"Generative AI\" in order to identify the trend This can be accomplished by counting the dailty occurance of tweets and then creating a graph."
      ],
      "metadata": {
        "id": "6IXHIQkGWIZ0"
      }
    },
    {
      "cell_type": "code",
      "source": [
        "daily_counts = df.set_index('Datetime').resample('D')['Tweet Id'].count()\n",
        "print(daily_counts)"
      ],
      "metadata": {
        "id": "M5AcHqoQV-WT",
        "colab": {
          "base_uri": "https://localhost:8080/"
        },
        "outputId": "2f40fcbc-947e-40e7-d0ff-07094790f130"
      },
      "execution_count": 101,
      "outputs": [
        {
          "output_type": "stream",
          "name": "stdout",
          "text": [
            "Datetime\n",
            "2022-04-21 00:00:00+00:00      2\n",
            "2022-04-22 00:00:00+00:00      1\n",
            "2022-04-23 00:00:00+00:00      1\n",
            "2022-04-24 00:00:00+00:00      1\n",
            "2022-04-25 00:00:00+00:00      7\n",
            "                            ... \n",
            "2023-04-15 00:00:00+00:00    522\n",
            "2023-04-16 00:00:00+00:00    531\n",
            "2023-04-17 00:00:00+00:00    800\n",
            "2023-04-18 00:00:00+00:00    885\n",
            "2023-04-19 00:00:00+00:00    886\n",
            "Freq: D, Name: Tweet Id, Length: 364, dtype: int64\n"
          ]
        }
      ]
    },
    {
      "cell_type": "code",
      "source": [
        "# maximum how many tweets daily we are getting\n",
        "max(daily_counts)"
      ],
      "metadata": {
        "id": "a3OSn-dNWqqg",
        "colab": {
          "base_uri": "https://localhost:8080/"
        },
        "outputId": "a7820115-a13a-44ff-f43e-7830a8ccede5"
      },
      "execution_count": 102,
      "outputs": [
        {
          "output_type": "execute_result",
          "data": {
            "text/plain": [
              "1011"
            ]
          },
          "metadata": {},
          "execution_count": 102
        }
      ]
    },
    {
      "cell_type": "code",
      "source": [
        "df['Datetime'].groupby(df.Datetime.dt.to_period(\"M\")).agg('count')"
      ],
      "metadata": {
        "id": "0h9P3PqxXgo_",
        "colab": {
          "base_uri": "https://localhost:8080/"
        },
        "outputId": "79b0a8a5-76ae-48f8-9e3f-34d7ef258587"
      },
      "execution_count": 103,
      "outputs": [
        {
          "output_type": "stream",
          "name": "stderr",
          "text": [
            "<ipython-input-103-cb1da0f73df9>:1: UserWarning: Converting to PeriodArray/Index representation will drop timezone information.\n",
            "  df['Datetime'].groupby(df.Datetime.dt.to_period(\"M\")).agg('count')\n"
          ]
        },
        {
          "output_type": "execute_result",
          "data": {
            "text/plain": [
              "Datetime\n",
              "2022-04       24\n",
              "2022-05      105\n",
              "2022-06       61\n",
              "2022-07       55\n",
              "2022-08      135\n",
              "2022-09      219\n",
              "2022-10      630\n",
              "2022-11     1670\n",
              "2022-12     3977\n",
              "2023-01     6881\n",
              "2023-02    11108\n",
              "2023-03    19003\n",
              "2023-04    12353\n",
              "Freq: M, Name: Datetime, dtype: int64"
            ]
          },
          "metadata": {},
          "execution_count": 103
        }
      ]
    },
    {
      "cell_type": "code",
      "source": [
        "# We will check the trend how the GAI is increasing in trend\n",
        "plt.plot(daily_counts.index, daily_counts.values)\n",
        "plt.xlabel('Date')\n",
        "plt.ylabel('number of tweets')\n",
        "plt.title('Usage of Generative AI from 2022-2023')\n",
        "plt.show()"
      ],
      "metadata": {
        "id": "YbYr5XgSXx-f",
        "colab": {
          "base_uri": "https://localhost:8080/",
          "height": 472
        },
        "outputId": "978f9883-5207-4730-89bf-5aab09717bf4"
      },
      "execution_count": 105,
      "outputs": [
        {
          "output_type": "display_data",
          "data": {
            "text/plain": [
              "<Figure size 640x480 with 1 Axes>"
            ],
            "image/png": "[encoded data removed]"
          },
          "metadata": {}
        }
      ]
    },
    {
      "cell_type": "code",
      "source": [
        "# lets perform sentiment analysis to classify sentiment\n",
        "def get_sentiment(text):\n",
        "  blob = TextBlob(text)\n",
        "  sentiment = blob.sentiment.polarity\n",
        "\n",
        "\n",
        "  \"\"\" The sentiment polarity is a property or attribute typically associated withs entiment anaysis tools or libraires in NLP.\n",
        "    It is used to calculate the the sentiment polarity score of a text or document. The sentiment polarity score is often a numerical valuranging from -1 to 1\n",
        "    , wjere -1 is negative and 0 is neutral and +1 is positive.\n",
        "\n",
        "    using polarity property you can progamatically assess the sentiment of a text or a set od texts.\n",
        "\n",
        "  \"\"\"\n",
        "\n",
        "  if sentiment > 0:\n",
        "    return \"Positive\"\n",
        "  elif sentiment < 0:\n",
        "    return 'Negative'\n",
        "  else:\n",
        "    return 'Neutral'\n",
        "\n",
        "\n"
      ],
      "metadata": {
        "id": "KkFbREc4YLAy"
      },
      "execution_count": 106,
      "outputs": []
    },
    {
      "cell_type": "code",
      "source": [
        "# to add a new column with the sentiment calssification\n",
        "df['sentiment'] = df['Text'].apply(get_sentiment)"
      ],
      "metadata": {
        "id": "_yJvPgZcaRBj"
      },
      "execution_count": 107,
      "outputs": []
    },
    {
      "cell_type": "code",
      "source": [
        "# To print a new column with the sentiment classification\n",
        "print('Sentiment Distrobution : \\n',df['sentiment'].value_counts())"
      ],
      "metadata": {
        "id": "4YzpzsLQacJC",
        "colab": {
          "base_uri": "https://localhost:8080/"
        },
        "outputId": "042c0f14-55ce-45f3-866c-5d89a2c9ebf9"
      },
      "execution_count": 108,
      "outputs": [
        {
          "output_type": "stream",
          "name": "stdout",
          "text": [
            "Sentiment Distrobution : \n",
            " Positive    29199\n",
            "Neutral     21709\n",
            "Negative     5313\n",
            "Name: sentiment, dtype: int64\n"
          ]
        }
      ]
    },
    {
      "cell_type": "code",
      "source": [
        "# suppose we will take 20 people\n",
        "print('\\nPositive')\n",
        "print(df[df['sentiment'] == 'Positive']['Text'].head(20))\n",
        "print('\\n Negative')\n",
        "print(df[df['sentiment'] == \"Negative\"]['Text'].head(20))\n",
        "print('\\nNeutral')\n",
        "print(df[df['sentiment'] == 'Neutral']['Text'].head(20))"
      ],
      "metadata": {
        "id": "u4Oh1G-Ha097",
        "colab": {
          "base_uri": "https://localhost:8080/"
        },
        "outputId": "f07f5b68-ee76-423f-db9b-2eeab554c848"
      },
      "execution_count": 109,
      "outputs": [
        {
          "output_type": "stream",
          "name": "stdout",
          "text": [
            "\n",
            "Positive\n",
            "5     #GenerativeAI is a new technology that can cre...\n",
            "6     Salesforce announces plans to integrate Einste...\n",
            "7     Discover the limitless possibilities of #Gener...\n",
            "9     Salesforce announces plans to integrate Einste...\n",
            "10    Check out my latest article: Four Ways #Genera...\n",
            "12    @MoldyWarp Here are the images you requested, ...\n",
            "15    Acquire a premium AI startup domain!\\nStill av...\n",
            "18    One more. Starting to get to grips with this w...\n",
            "19    A person's surprised face as they spot a celeb...\n",
            "20    🎯 Achieve “Product Market Fit” with Ai — https...\n",
            "25    Exciting tracks in #ArtificialIntelligence &am...\n",
            "26    Exciting tracks in #ArtificialIntelligence &am...\n",
            "27    https://t.co/ZWjoieFPRq is a super exciting wa...\n",
            "28    The first time this has happened to me, but I ...\n",
            "31    Unbelievable AI Auto Designer.. I just signed ...\n",
            "33    ChatDOC is a free file-reading assistant based...\n",
            "40    Ending our Demo Day with an interactive sessio...\n",
            "43    RT @RAlexJimenez https://t.co/ow3MCv8cgE AI ha...\n",
            "45    This is a really insightful comment. #mobile m...\n",
            "49    Generative AI promises to streamline health ca...\n",
            "Name: Text, dtype: object\n",
            "\n",
            " Negative\n",
            "22     What GenAI use cases are you exploring in the ...\n",
            "37     Now some post-processing experiments to make t...\n",
            "41     @Atlassian is adding an AI capability to the e...\n",
            "42     The traffic at Stack Overflow has been declini...\n",
            "44     well yes flawed, dangerous, and nothing about ...\n",
            "46     The traffic at Stack Overflow has been declini...\n",
            "47     Follow the #XenobiologyMuseum !\\nFacebook: @ X...\n",
            "55     Shocking Revelation: AI Chatbots Perpetuate Bi...\n",
            "89     https://t.co/TL0vd84Jgl #technews »#StabilityA...\n",
            "103    https://t.co/r9KP1kKwUx #technews »#StabilityA...\n",
            "109    Gathering some data in preparation for our upc...\n",
            "132    When someone tries to shame a furry/hentai tun...\n",
            "141    Are you curious about how Augmented Reality  &...\n",
            "163    Companies using #generativeAI tools like #Chat...\n",
            "169    Congratulations to @Fashable_AI  for being fea...\n",
            "180    Conversations with @Remblehealth's #generative...\n",
            "196    #GenerativeAI is here: How tools like #ChatGPT...\n",
            "223    #GPT4 #ChatGPT #OpenAI #ArtificialIntelligence...\n",
            "230    Is #GenerativeAI the next big disruptor for mu...\n",
            "236    I keep wondering, what are other #IndieGameDev...\n",
            "Name: Text, dtype: object\n",
            "\n",
            "Neutral\n",
            "0     From Studio Gangster to Synthetic Gangster 🎤.....\n",
            "1     Took me some time to find this. I build this #...\n",
            "2     Mind blowing next wave #generativeai  platform...\n",
            "3     Open Source Generative AI Image Specialist Sta...\n",
            "4     Are you an #HR leader considering which future...\n",
            "8     Local art fam: Come join us at Adobe SF to lea...\n",
            "11    This week on Big Martech, the second installat...\n",
            "13    Three Ways Media Leaders Can Leverage Generati...\n",
            "14    #CreatorEconomy - 💭 Is creativity at risk? As ...\n",
            "16    Midjourney and Adobe Firefly Prompts\\n\\n#adobe...\n",
            "17    Creating Snowflake UDFs with ChatGPT: A Guide ...\n",
            "21    RT:What are the 10 Things Teachers Can Do With...\n",
            "23    Three Ways Media Leaders Can Leverage Generati...\n",
            "24    Stability AI releases open-source language mod...\n",
            "29    #AI Legislation and Regulation on State and Fe...\n",
            "30    White Red Spheres. @openfashion_en\\n#aifashion...\n",
            "32    Increasingly we'll see diverse industries as a...\n",
            "34    Red White Dots. @openfashion_en #aifashionchal...\n",
            "35    #ChatGPT shows promise for developing a clinic...\n",
            "36    Calls for stricter #UK oversight of #workplace...\n",
            "Name: Text, dtype: object\n"
          ]
        }
      ]
    },
    {
      "cell_type": "code",
      "source": [
        "sns.countplot(x= 'sentiment', data = df)"
      ],
      "metadata": {
        "id": "6lX3ETmtbf_a",
        "colab": {
          "base_uri": "https://localhost:8080/",
          "height": 466
        },
        "outputId": "436fefe7-acd5-44e5-ff0e-91fdc6c8aebe"
      },
      "execution_count": 110,
      "outputs": [
        {
          "output_type": "execute_result",
          "data": {
            "text/plain": [
              "<Axes: xlabel='sentiment', ylabel='count'>"
            ]
          },
          "metadata": {},
          "execution_count": 110
        },
        {
          "output_type": "display_data",
          "data": {
            "text/plain": [
              "<Figure size 640x480 with 1 Axes>"
            ],
            "image/png": "[encoded data removed]"
          },
          "metadata": {}
        }
      ]
    },
    {
      "cell_type": "code",
      "source": [
        "\n",
        "# Word cloud\n",
        "def show_cloud(data, title = None):\n",
        "  wordcloud = WordCloud(\n",
        "      background_color='white',\n",
        "      max_words = 200,\n",
        "      max_font_size = 40,\n",
        "      scale = 3,\n",
        "      random_state = 42\n",
        "  ).generate(str(data))\n",
        "\n",
        "  fig = plt.figure(1, figsize = (20,20))\n",
        "  plt.axis('off')\n",
        "\n",
        "  if title:\n",
        "    fig.subtitle(title, fontsize = 20)\n",
        "    fig.subplots_adjust(top = 2.4)\n",
        "\n",
        "  plt.imshow(wordcloud)\n",
        "  plt.show()\n",
        "\n",
        "show_cloud(df['Text'])"
      ],
      "metadata": {
        "id": "Om_VivRlcvmN",
        "colab": {
          "base_uri": "https://localhost:8080/",
          "height": 576
        },
        "outputId": "afdf7b7d-a45e-4b4b-bec0-e9b415ec4b37"
      },
      "execution_count": 111,
      "outputs": [
        {
          "output_type": "display_data",
          "data": {
            "text/plain": [
              "<Figure size 2000x2000 with 1 Axes>"
            ],
            "image/png": "[encoded data removed]"
          },
          "metadata": {}
        }
      ]
    },
    {
      "cell_type": "code",
      "source": [],
      "metadata": {
        "id": "oLiLmp_cdx3w"
      },
      "execution_count": null,
      "outputs": []
    }
  ]
}